{
 "cells": [
  {
   "cell_type": "markdown",
   "id": "d04760a9",
   "metadata": {},
   "source": [
    "## World Bank Data Project"
   ]
  },
  {
   "cell_type": "markdown",
   "id": "8d3215d8",
   "metadata": {},
   "source": [
    "placeholder project description"
   ]
  },
  {
   "cell_type": "markdown",
   "id": "0b0f01cb",
   "metadata": {},
   "source": [
    "QA Project for World Bank Survey Dataset - World bank has compiled a survey asking specific financial questions to various federal banks across the globe. This project will train a NLP generative model on the dataset and allow the user to ask questions related to the information.  \n",
    "\n",
    "step 1 - load excel file into python  \n",
    "step 2 - process excel file into a NLP readable format - question:answer pairs  \n",
    "step 3 - PHASE 1 - run pii identifying model (microsoft presidio) on dataset to clean it  \n",
    "step 4 - PHASE 2 - train NLP model (Google T5 via pyTorch) on dataset  \n",
    "step 5 - test and finetune model  \n",
    "step 6 - upload model to azure  \n",
    "\n",
    "Future Steps:  \n",
    "- PHASE 3\n",
    "    - implement API for interacting with model\n",
    "    - add some sort of sentiment analysis to clasify questions/answers (financial questions, admin questions, etc)\n",
    "    - get feedback on model performance (answer quality/hallucinations/knowledge gaps)  \n",
    "    - add additional survey questions to knowledge base  \n",
    "\n",
    "CICD: GitHub"
   ]
  },
  {
   "cell_type": "code",
   "execution_count": null,
   "id": "d1dfe9f7",
   "metadata": {},
   "outputs": [],
   "source": [
    "# download data from World Bank Database\n",
    "import requests\n",
    "\n",
    "url = \"https://datacatalogfiles.worldbank.org/ddh-published/0038632/2/DR0047737/2021_04_26_brss-public-release.xlsx\"\n",
    "response = requests.get(url)\n",
    "\n",
    "with open(\"worldbank_data.xlsx\", \"wb\") as f:\n",
    "    f.write(response.content)"
   ]
  },
  {
   "cell_type": "markdown",
   "id": "e2654b84",
   "metadata": {},
   "source": [
    "convert xlsx file from row column format to something that works for t5 training  \n",
    "need to use question:answer pairs  \n",
    "model treats multi-select questions as independent binary questions for each option"
   ]
  },
  {
   "cell_type": "code",
   "execution_count": null,
   "id": "ea782ca2",
   "metadata": {},
   "outputs": [],
   "source": [
    "## read and process data\n",
    "import pandas as pd\n",
    "import re\n",
    "\n",
    "# loads all sheets at once\n",
    "allSheets = pd.ExcelFile(\"worldbank_data.xlsx\")\n",
    "\n",
    "# store samples\n",
    "samples = []\n",
    "\n",
    "# process all sheets except first 2 and last 1\n",
    "process = allSheets.sheet_names[2:-1]\n",
    "\n",
    "# read first sheet and extract countries\n",
    "dfFirst = pd.read_excel(allSheets, sheet_name=process[0], header=None)\n",
    "countries = [str(c) for c in dfFirst.iloc[0, 2:].values if not pd.isna(c)]\n",
    "\n",
    "for sheet in process:\n",
    "    # read current sheet\n",
    "    df = pd.read_excel(allSheets, sheet_name=sheet, header=None)\n",
    "\n",
    "    # create parent and base vars\n",
    "    parent = None\n",
    "    currBase = None\n",
    "\n",
    "    # iterate through every row except header\n",
    "    # get question index and question text\n",
    "    for idx, row in df.iloc[1:].iterrows():\n",
    "        qIndex = row[0]\n",
    "        qText = row[1]\n",
    "\n",
    "        # if the question index is null but text does exist \n",
    "        # then the question is a parent question\n",
    "        # assign parent question and then clear prev base and move onto next row\n",
    "        if pd.isna(qIndex) and not pd.isna(qText):\n",
    "            parent = qText\n",
    "            currBase = None\n",
    "            continue\n",
    "\n",
    "        # regex starts with Q and captures groups delimited by _\n",
    "        # group 1 is the main question number\n",
    "        # group 2 is sub-question number\n",
    "        # group 3 is for multi-part questions with extra text\n",
    "        # non-capturing group is for sections of index which are unnecessary\n",
    "        match = re.match(r'Q(\\d+)_([0-9_]+?)([a-zA-Z_]+)?(?:_[A-Z]|_\\d{4}|$)', str(qIndex))\n",
    "\n",
    "        # if regex matched then process row, otherwise skip\n",
    "        if match:\n",
    "            baseNum = f\"{match.group(1)}_{match.group(2)}\"\n",
    "            isMulti = bool(match.group(3)) or bool(re.search(r'_\\d{4}', str(qIndex)))\n",
    "            part = match.group(3) if match.group(3) else \"\"\n",
    "        else:\n",
    "            continue\n",
    "\n",
    "        # if new base is different to current base, update base\n",
    "        if baseNum and baseNum != currBase:\n",
    "            # reset parent if new question isn't multi part\n",
    "            if not isMulti:\n",
    "                parent = None\n",
    "            currBase = baseNum\n",
    "\n",
    "        # loop through each column\n",
    "        for colIdx, country in enumerate(countries):\n",
    "\n",
    "            # get answer for current column\n",
    "            answer = row[colIdx + 2]\n",
    "            \n",
    "            # skip column if there's no answer\n",
    "            if pd.isna(answer):\n",
    "                continue\n",
    "\n",
    "            # if question is multi-part combine parent question and question text\n",
    "            if isMulti and parent:\n",
    "                completeQ = f\"{parent} {qText}\"\n",
    "            \n",
    "            # otherwise just append question text\n",
    "            else:\n",
    "                completeQ = qText\n",
    "\n",
    "            # fill in sample entry\n",
    "            sample = {\n",
    "                \"input\": f\"Answer this question about {country}: {completeQ}\".strip(),\n",
    "                \"target\": str(answer).strip()\n",
    "            }\n",
    "\n",
    "            # append sample to list\n",
    "            samples.append(sample)\n",
    "\n",
    "\n",
    "#testing dump all samples to file to verify\n",
    "import json\n",
    "with open('training_samples.json', 'w', encoding='utf-8') as f:\n",
    "    json.dump(samples, f, indent=2, ensure_ascii=False)\n"
   ]
  },
  {
   "cell_type": "markdown",
   "id": "4920245f",
   "metadata": {},
   "source": [
    "CHECK DATA FOR PII  \n",
    "train and run pii model here\n",
    "\n",
    "https://github.com/microsoft/presidio - pretrained so don't need to find another dataset"
   ]
  },
  {
   "cell_type": "code",
   "execution_count": null,
   "id": "ea5c8b57",
   "metadata": {},
   "outputs": [],
   "source": [
    "# install dependecies\n",
    "# !pip install presidio_analyzer presidio_anonymizer\n",
    "# !python -m spacy download en_core_web_lg"
   ]
  },
  {
   "cell_type": "code",
   "execution_count": null,
   "id": "3eb74525",
   "metadata": {},
   "outputs": [
    {
     "name": "stdout",
     "output_type": "stream",
     "text": [
      "Sample of exclude words: ['Spain', 'Comoros', 'Latvia', 'Lesotho', 'Jersey', 'Romania', 'Canada', 'Australia', 'Singapore', 'Cayman Islands']\n",
      "Total words in exclude list: 167\n"
     ]
    },
    {
     "name": "stderr",
     "output_type": "stream",
     "text": [
      "progress:   0%|          | 8/107833 [00:00<39:18, 45.72it/s]"
     ]
    },
    {
     "name": "stdout",
     "output_type": "stream",
     "text": [
      "\n",
      "Detected in sample 2:\n",
      "  Input: 'Antigua' (type: LOCATION)\n",
      "  Input: 'Barbuda' (type: LOCATION)\n",
      "\n",
      "Detected in sample 8:\n",
      "  Target: 'the Republic of Azerbaijan' (type: LOCATION)\n"
     ]
    },
    {
     "name": "stderr",
     "output_type": "stream",
     "text": [
      "\n"
     ]
    }
   ],
   "source": [
    "from presidio_analyzer import AnalyzerEngine\n",
    "from collections import defaultdict\n",
    "from tqdm import tqdm\n",
    "\n",
    "# initialize analyzer\n",
    "analyzer = AnalyzerEngine()\n",
    "\n",
    "# specific countries and years are necessary to the survey data\n",
    "# do not flag these as PII\n",
    "excludeWords = set(countries)\n",
    "excludeWords.update(['2011', '2012', '2013', '2014', '2015', '2016'])\n",
    "\n",
    "print(\"Sample of exclude words:\", list(excludeWords)[:10])\n",
    "print(\"Total words in exclude list:\", len(excludeWords))\n",
    "\n",
    "# initialize storage for pii\n",
    "potentialPII = []\n",
    "piiSummary = defaultdict(int)\n",
    "\n",
    "# iterate through every sample\n",
    "for idx, sample in enumerate(tqdm(samples, desc=\"progress\")):\n",
    "\n",
    "    # get input question and target\n",
    "    inputText = sample[\"input\"]\n",
    "    targetText = sample[\"target\"]\n",
    "\n",
    "    # analyze input and target\n",
    "    inputRes = analyzer.analyze(text=inputText, language='en')\n",
    "    targetRes = analyzer.analyze(text=targetText, language='en')\n",
    "\n",
    "    # filter out exclude list from text matches\n",
    "    inputRes = [r for r in inputRes if not any(inputText[r.start:r.end] in word or word in inputText[r.start:r.end] for word in excludeWords)] \n",
    "    targetRes = [r for r in targetRes if targetText[r.start:r.end] not in excludeWords] \n",
    "\n",
    "    if inputRes or targetRes:\n",
    "        print(f\"\\nDetected in sample {idx}:\")\n",
    "        for r in inputRes:\n",
    "            print(f\"  Input: '{inputText[r.start:r.end]}' (type: {r.entity_type})\")\n",
    "        for r in targetRes:\n",
    "            print(f\"  Target: '{targetText[r.start:r.end]}' (type: {r.entity_type})\")\n",
    "        \n",
    "        if idx > 5:  # Just check first few samples\n",
    "            break\n",
    "\n",
    "\n",
    "    # if pii is found\n",
    "    if inputRes or targetRes:\n",
    "\n",
    "        # store results and append main list\n",
    "        finding = {\n",
    "            \"sampleIDX\": idx,\n",
    "            \"input\": inputText,\n",
    "            \"target\": targetText,\n",
    "            \"inputPII\": [{\"type\": r.entity_type, \"text\": inputText[r.start:r.end], \"score\": r.score} for r in inputRes],\n",
    "            \"targetPII\": [{\"type\": r.entity_type, \"text\": targetText[r.start:r.end], \"score\": r.score} for r in targetRes]\n",
    "        }\n",
    "        potentialPII.append(finding)\n",
    "\n",
    "# dump to file\n",
    "import json\n",
    "with open('potentialPII.json', 'w', encoding='utf-8') as f:\n",
    "    json.dump(potentialPII, f, indent=2, ensure_ascii=False)\n"
   ]
  }
 ],
 "metadata": {
  "kernelspec": {
   "display_name": "wbtraining",
   "language": "python",
   "name": "python3"
  },
  "language_info": {
   "codemirror_mode": {
    "name": "ipython",
    "version": 3
   },
   "file_extension": ".py",
   "mimetype": "text/x-python",
   "name": "python",
   "nbconvert_exporter": "python",
   "pygments_lexer": "ipython3",
   "version": "3.13.7"
  }
 },
 "nbformat": 4,
 "nbformat_minor": 5
}
