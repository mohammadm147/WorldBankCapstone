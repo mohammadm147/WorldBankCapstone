{
 "cells": [
  {
   "cell_type": "markdown",
   "id": "0b0f01cb",
   "metadata": {},
   "source": [
    "# World Bank Financial Survey Q&A Model Project \n",
    "\n",
    "This project develops a NLP powererd question-answering system that is trained on World Bank Survey Data containing financial information gathered from various federal banks across the globe. This notebook walks the user through gathering/processing the data and training/deploying the final model. \n",
    "\n",
    "### Dataset Description\n",
    "The World Bank survey dataset comprises of structured financial questions sent to financial instituitions worldwide. The dataset includes multi-dimensional survey responses, hierarchial question structures, and financial metrics. For this project, we will use the questions that have long-form textual answers to train an NLP model, rather than using binary response questions.\n",
    "\n",
    "### Project Architecture\n",
    "\n",
    "##### Phase 1 - Data Processing \n",
    "\n",
    "- Transform unstructured survey data into structurerd NLP training pairs\n",
    "    - Parse all relevant sheets from excel file\n",
    "    - Properly handle hierarchical question structures to ensure each question answer pair is standalone\n",
    "- Indentify and Flag PII using a ML model in dataset\n",
    "\n",
    "##### Phase 2 - Model Development & Fine Tuning\n",
    "\n",
    "- Fine-tune a Google FLAN-T5-Base NLP model \n",
    "- Optimize the model's performance on this specific World Bank survey domain\n",
    "- Evaluate model performance using validation and test sample sets\n",
    "\n",
    "##### Phase 3 - Deployement\n",
    "\n",
    "- Deploy fine-tuned model to production environment on Azure/Huggingface\n",
    "\n",
    "##### Future Steps (if time allows):\n",
    "- implement API for interacting with model\n",
    "- add some sort of sentiment analysis to clasify questions/answers (financial questions, admin questions, etc)\n",
    "- get feedback on model performance (answer quality/hallucinations/knowledge gaps)  \n",
    "- add additional survey questions to knowledge base "
   ]
  },
  {
   "cell_type": "code",
   "execution_count": null,
   "id": "d1dfe9f7",
   "metadata": {},
   "outputs": [],
   "source": [
    "# download data from World Bank Database\n",
    "import requests\n",
    "\n",
    "url = \"https://datacatalogfiles.worldbank.org/ddh-published/0038632/2/DR0047737/2021_04_26_brss-public-release.xlsx\"\n",
    "response = requests.get(url)\n",
    "\n",
    "with open(\"worldbank_data.xlsx\", \"wb\") as f:\n",
    "    f.write(response.content)"
   ]
  },
  {
   "cell_type": "markdown",
   "id": "e2654b84",
   "metadata": {},
   "source": [
    "Now that data is downloaded, it needs to be converted from an xlsx file with row column format to something that works for t5 training (question:answer pairs).  "
   ]
  },
  {
   "cell_type": "code",
   "execution_count": 1,
   "id": "ea782ca2",
   "metadata": {},
   "outputs": [],
   "source": [
    "## read and process data\n",
    "import pandas as pd\n",
    "import re\n",
    "\n",
    "# Remove extra unnecessary information from question\n",
    "# For example, \"Select all that apply\"\n",
    "def simplify_question(qText):\n",
    "    if pd.isna(qText):\n",
    "        return \"\"\n",
    "    \n",
    "    text = str(qText).strip()\n",
    "    \n",
    "    # split on common instruction starters and take first part\n",
    "    for splitter in [\" Please \", \" If \", \" Include \", \" Specify \", \" Describe \", \" List \"]:\n",
    "        if splitter in text:\n",
    "            text = text.split(splitter)[0]\n",
    "            break\n",
    "    \n",
    "    # if there's a question mark, take up to first one\n",
    "    if \"?\" in text:\n",
    "        text = text.split(\"?\")[0] + \"?\"\n",
    "    \n",
    "    return text.strip()\n",
    "\n",
    "# loads all sheets at once\n",
    "allSheets = pd.ExcelFile(\"worldbank_data.xlsx\")\n",
    "\n",
    "# store samples\n",
    "samples = []\n",
    "\n",
    "# process all sheets except first 2 and last 1\n",
    "process = allSheets.sheet_names[2:-1]\n",
    "\n",
    "# read first sheet and extract countries\n",
    "dfFirst = pd.read_excel(allSheets, sheet_name=process[0], header=None)\n",
    "countries = [str(c) for c in dfFirst.iloc[0, 2:].values if not pd.isna(c)]\n",
    "\n",
    "for sheet in process:\n",
    "    # read current sheet\n",
    "    df = pd.read_excel(allSheets, sheet_name=sheet, header=None)\n",
    "    \n",
    "    # create parent and base vars\n",
    "    parent = None\n",
    "    currBase = None\n",
    "    \n",
    "    # iterate through every row except header\n",
    "    # get question index and question text\n",
    "    for idx, row in df.iloc[1:].iterrows():\n",
    "        qIndex = row[0]\n",
    "        qText = row[1]\n",
    "        \n",
    "        # if the question index is null but text does exist \n",
    "        # then the question is a parent question\n",
    "        # assign parent question and then clear prev base and move onto next row\n",
    "        if pd.isna(qIndex) and not pd.isna(qText):\n",
    "            parent = simplify_question(qText)  # ← Simplify parent too\n",
    "            currBase = None\n",
    "            continue\n",
    "        \n",
    "        # regex starts with Q and captures groups delimited by _\n",
    "        # group 1 is the main question number\n",
    "        # group 2 is sub-question number\n",
    "        # group 3 is for multi-part questions with extra text\n",
    "        # non-capturing group is for sections of index which are unnecessary\n",
    "        match = re.match(r'Q(\\d+)_([0-9_]+?)([a-zA-Z_]+)?(?:_[A-Z]|_\\d{4}|$)', str(qIndex))\n",
    "        \n",
    "        # if regex matched then process row, otherwise skip\n",
    "        if match:\n",
    "            baseNum = f\"{match.group(1)}_{match.group(2)}\"\n",
    "            isMulti = bool(match.group(3)) or bool(re.search(r'_\\d{4}', str(qIndex)))\n",
    "            part = match.group(3) if match.group(3) else \"\"\n",
    "        else:\n",
    "            continue\n",
    "        \n",
    "        # if new base is different to current base, update base\n",
    "        if baseNum and baseNum != currBase:\n",
    "            # reset parent if new question isn't multi part\n",
    "            if not isMulti:\n",
    "                parent = None\n",
    "            currBase = baseNum\n",
    "        \n",
    "        # loop through each column\n",
    "        for colIdx, country in enumerate(countries):\n",
    "            \n",
    "            # get answer for current column\n",
    "            answer = row[colIdx + 2]\n",
    "            \n",
    "            # skip column if there's no answer\n",
    "            if pd.isna(answer):\n",
    "                continue\n",
    "            \n",
    "            # Simplify the question text\n",
    "            simplifiedQ = simplify_question(qText)  # ← KEY CHANGE\n",
    "            \n",
    "            # if question is multi-part combine parent question and question text\n",
    "            if isMulti and parent:\n",
    "                completeQ = f\"{parent} {simplifiedQ}\"\n",
    "            # otherwise just append question text\n",
    "            else:\n",
    "                completeQ = simplifiedQ\n",
    "            \n",
    "            # fill in sample entry\n",
    "            sample = {\n",
    "                \"input\": f\"Answer this question about {country}: {completeQ}\".strip(),\n",
    "                \"target\": str(answer).strip()\n",
    "            }\n",
    "            \n",
    "            # append sample to list\n",
    "            samples.append(sample)"
   ]
  },
  {
   "cell_type": "markdown",
   "id": "4920245f",
   "metadata": {},
   "source": [
    "Now that the data is in proper training format, it needs to be checked for PII. We will use Microsoft's Presidio pre-trained ML library to detect PII (https://github.com/microsoft/presidio)."
   ]
  },
  {
   "cell_type": "code",
   "execution_count": null,
   "id": "ea5c8b57",
   "metadata": {},
   "outputs": [],
   "source": [
    "# install dependecies\n",
    "# !pip install presidio_analyzer presidio_anonymizer\n",
    "# !python -m spacy download en_core_web_lg"
   ]
  },
  {
   "cell_type": "code",
   "execution_count": null,
   "id": "3eb74525",
   "metadata": {},
   "outputs": [
    {
     "name": "stderr",
     "output_type": "stream",
     "text": [
      "finding pii: 100%|██████████| 107833/107833 [35:25<00:00, 50.73it/s] \n"
     ]
    }
   ],
   "source": [
    "from presidio_analyzer import AnalyzerEngine\n",
    "from tqdm import tqdm\n",
    "import json\n",
    "\n",
    "# initialize analyzer\n",
    "analyzer = AnalyzerEngine()\n",
    "\n",
    "# specific countries and years are necessary to the survey data\n",
    "# do not flag these as PII\n",
    "excludeWords = set(countries)\n",
    "excludeWords.update(['2011', '2012', '2013', '2014', '2015', '2016'])\n",
    "\n",
    "# only include entries that the model has 70%+ confidnece is PII\n",
    "CONFIDENCE = 0.7\n",
    "\n",
    "# only track unique PII values\n",
    "seenPII = set()\n",
    "\n",
    "# storage for PII\n",
    "potentialPII = []\n",
    "\n",
    "# iterate through every sample\n",
    "for idx, sample in enumerate(tqdm(samples, desc='finding pii')):\n",
    "\n",
    "    # get input question and target\n",
    "    inputText = sample[\"input\"]\n",
    "    targetText = sample[\"target\"]\n",
    "\n",
    "    # analyze input and target\n",
    "    inputRes = analyzer.analyze(text=inputText, language='en')\n",
    "    targetRes = analyzer.analyze(text=targetText, language='en')\n",
    "\n",
    "    # filter out exclude list from text matches\n",
    "    inputRes = [r for r in inputRes \n",
    "                if r.score >= CONFIDENCE\n",
    "                and not any(inputText[r.start:r.end] in word or word in inputText[r.start:r.end] for word in excludeWords)] \n",
    "    targetRes = [r for r in targetRes \n",
    "                 if r.score >= CONFIDENCE \n",
    "                 and not any(targetText[r.start:r.end] in word or word in targetText[r.start:r.end] for word in excludeWords)]\n",
    "\n",
    "    # if pii is found\n",
    "    isNewPII = False\n",
    "    for r in inputRes:\n",
    "        if inputText[r.start:r.end] not in seenPII:\n",
    "            isNewPII = True\n",
    "            seenPII.add(inputText[r.start:r.end])\n",
    "    for r in targetRes:\n",
    "        if targetText[r.start:r.end] not in seenPII:\n",
    "            isNewPII = True\n",
    "            seenPII.add(targetText[r.start:r.end])\n",
    "\n",
    "    if isNewPII:\n",
    "        res = {\n",
    "            \"input\": inputText,\n",
    "            \"target\": targetText,\n",
    "            \"inputPII\": [{\"type\": r.entity_type, \"text\": inputText[r.start:r.end], \"score\": r.score} for r in inputRes],\n",
    "            \"targetPII\": [{\"type\": r.entity_type, \"text\": targetText[r.start:r.end], \"score\": r.score} for r in targetRes]\n",
    "        }\n",
    "        potentialPII.append(res)\n",
    "\n",
    "# dump all potential flagged PII into a json file\n",
    "with open('potentialPII.json', 'w', encoding='utf-8') as f:\n",
    "    json.dump(potentialPII, f, indent=2, ensure_ascii=False)\n"
   ]
  },
  {
   "cell_type": "markdown",
   "id": "f4aa1d82",
   "metadata": {},
   "source": [
    "The code dumps all potential PII matches to a seperate JSON file saved to the current directory (potentiallyPII.json). This file can now be manually checked to determine which flagged keywords are false postives and which are actually PII. Once all PII is removed from the dataset, the T5 model training can begin."
   ]
  },
  {
   "cell_type": "code",
   "execution_count": null,
   "id": "ca4c42d9",
   "metadata": {},
   "outputs": [],
   "source": [
    "# install dependencies\n",
    "# !pip install torch torchvision --index-url https://download.pytorch.org/whl/cu128\n",
    "# !pip install transformers datasets accelerate\n"
   ]
  },
  {
   "cell_type": "code",
   "execution_count": null,
   "id": "fe9b4829",
   "metadata": {},
   "outputs": [
    {
     "name": "stderr",
     "output_type": "stream",
     "text": [
      "Map: 100%|██████████| 30276/30276 [00:02<00:00, 13123.64 examples/s]\n",
      "Map: 100%|██████████| 3784/3784 [00:00<00:00, 16158.58 examples/s]\n",
      "Map: 100%|██████████| 3785/3785 [00:00<00:00, 16448.17 examples/s]\n",
      "Epoch 1/7:   0%|          | 2/7569 [00:00<27:54,  4.52it/s, loss=5.3024]"
     ]
    },
    {
     "name": "stdout",
     "output_type": "stream",
     "text": [
      "\n",
      "Step 0, Loss: 5.1492\n"
     ]
    },
    {
     "name": "stderr",
     "output_type": "stream",
     "text": [
      "Epoch 1/7:   1%|▏         | 102/7569 [00:16<20:24,  6.10it/s, loss=4.5352]"
     ]
    },
    {
     "name": "stdout",
     "output_type": "stream",
     "text": [
      "\n",
      "Step 100, Loss: 4.4267\n"
     ]
    },
    {
     "name": "stderr",
     "output_type": "stream",
     "text": [
      "Epoch 1/7:   3%|▎         | 202/7569 [00:32<21:14,  5.78it/s, loss=5.5976]"
     ]
    },
    {
     "name": "stdout",
     "output_type": "stream",
     "text": [
      "\n",
      "Step 200, Loss: 5.0235\n"
     ]
    },
    {
     "name": "stderr",
     "output_type": "stream",
     "text": [
      "Epoch 1/7:   4%|▍         | 302/7569 [00:49<19:44,  6.14it/s, loss=3.8824]"
     ]
    },
    {
     "name": "stdout",
     "output_type": "stream",
     "text": [
      "\n",
      "Step 300, Loss: 3.5615\n"
     ]
    },
    {
     "name": "stderr",
     "output_type": "stream",
     "text": [
      "Epoch 1/7:   5%|▌         | 402/7569 [01:05<19:48,  6.03it/s, loss=4.9912]"
     ]
    },
    {
     "name": "stdout",
     "output_type": "stream",
     "text": [
      "\n",
      "Step 400, Loss: 4.5016\n"
     ]
    },
    {
     "name": "stderr",
     "output_type": "stream",
     "text": [
      "Epoch 1/7:   7%|▋         | 502/7569 [01:22<19:37,  6.00it/s, loss=4.5629]"
     ]
    },
    {
     "name": "stdout",
     "output_type": "stream",
     "text": [
      "\n",
      "Step 500, Loss: 3.4506\n"
     ]
    },
    {
     "name": "stderr",
     "output_type": "stream",
     "text": [
      "Epoch 1/7:   8%|▊         | 602/7569 [01:38<19:22,  5.99it/s, loss=4.9178]"
     ]
    },
    {
     "name": "stdout",
     "output_type": "stream",
     "text": [
      "\n",
      "Step 600, Loss: 5.1806\n"
     ]
    },
    {
     "name": "stderr",
     "output_type": "stream",
     "text": [
      "Epoch 1/7:   9%|▉         | 701/7569 [01:54<18:43,  6.11it/s, loss=5.1709]"
     ]
    },
    {
     "name": "stdout",
     "output_type": "stream",
     "text": [
      "\n",
      "Step 700, Loss: 3.9788\n"
     ]
    },
    {
     "name": "stderr",
     "output_type": "stream",
     "text": [
      "Epoch 1/7:  11%|█         | 802/7569 [02:10<18:31,  6.09it/s, loss=5.7303]"
     ]
    },
    {
     "name": "stdout",
     "output_type": "stream",
     "text": [
      "\n",
      "Step 800, Loss: 4.7128\n"
     ]
    },
    {
     "name": "stderr",
     "output_type": "stream",
     "text": [
      "Epoch 1/7:  12%|█▏        | 902/7569 [02:27<18:31,  6.00it/s, loss=4.9587]"
     ]
    },
    {
     "name": "stdout",
     "output_type": "stream",
     "text": [
      "\n",
      "Step 900, Loss: 3.6327\n"
     ]
    },
    {
     "name": "stderr",
     "output_type": "stream",
     "text": [
      "Epoch 1/7:  13%|█▎        | 1002/7569 [02:43<18:37,  5.88it/s, loss=5.5470]"
     ]
    },
    {
     "name": "stdout",
     "output_type": "stream",
     "text": [
      "\n",
      "Step 1000, Loss: 2.9185\n"
     ]
    },
    {
     "name": "stderr",
     "output_type": "stream",
     "text": [
      "Epoch 1/7:  15%|█▍        | 1102/7569 [03:00<19:03,  5.65it/s, loss=4.1318]"
     ]
    },
    {
     "name": "stdout",
     "output_type": "stream",
     "text": [
      "\n",
      "Step 1100, Loss: 3.0141\n"
     ]
    },
    {
     "name": "stderr",
     "output_type": "stream",
     "text": [
      "Epoch 1/7:  16%|█▌        | 1202/7569 [03:16<18:30,  5.73it/s, loss=3.0259]"
     ]
    },
    {
     "name": "stdout",
     "output_type": "stream",
     "text": [
      "\n",
      "Step 1200, Loss: 5.3474\n"
     ]
    },
    {
     "name": "stderr",
     "output_type": "stream",
     "text": [
      "Epoch 1/7:  17%|█▋        | 1302/7569 [03:33<18:06,  5.77it/s, loss=5.1523]"
     ]
    },
    {
     "name": "stdout",
     "output_type": "stream",
     "text": [
      "\n",
      "Step 1300, Loss: 5.4190\n"
     ]
    },
    {
     "name": "stderr",
     "output_type": "stream",
     "text": [
      "Epoch 1/7:  19%|█▊        | 1402/7569 [03:49<17:25,  5.90it/s, loss=2.2053]"
     ]
    },
    {
     "name": "stdout",
     "output_type": "stream",
     "text": [
      "\n",
      "Step 1400, Loss: 5.1574\n"
     ]
    },
    {
     "name": "stderr",
     "output_type": "stream",
     "text": [
      "Epoch 1/7:  20%|█▉        | 1502/7569 [04:05<16:59,  5.95it/s, loss=3.1918]"
     ]
    },
    {
     "name": "stdout",
     "output_type": "stream",
     "text": [
      "\n",
      "Step 1500, Loss: 5.0585\n"
     ]
    },
    {
     "name": "stderr",
     "output_type": "stream",
     "text": [
      "Epoch 1/7:  21%|██        | 1602/7569 [04:22<16:11,  6.14it/s, loss=3.4143]"
     ]
    },
    {
     "name": "stdout",
     "output_type": "stream",
     "text": [
      "\n",
      "Step 1600, Loss: 5.1191\n"
     ]
    },
    {
     "name": "stderr",
     "output_type": "stream",
     "text": [
      "Epoch 1/7:  22%|██▏       | 1702/7569 [04:39<16:05,  6.08it/s, loss=2.9043]"
     ]
    },
    {
     "name": "stdout",
     "output_type": "stream",
     "text": [
      "\n",
      "Step 1700, Loss: 5.1671\n"
     ]
    },
    {
     "name": "stderr",
     "output_type": "stream",
     "text": [
      "Epoch 1/7:  24%|██▍       | 1802/7569 [04:55<15:59,  6.01it/s, loss=2.5487]"
     ]
    },
    {
     "name": "stdout",
     "output_type": "stream",
     "text": [
      "\n",
      "Step 1800, Loss: 4.4686\n"
     ]
    },
    {
     "name": "stderr",
     "output_type": "stream",
     "text": [
      "Epoch 1/7:  25%|██▌       | 1902/7569 [05:11<14:55,  6.33it/s, loss=2.3397]"
     ]
    },
    {
     "name": "stdout",
     "output_type": "stream",
     "text": [
      "\n",
      "Step 1900, Loss: 4.0531\n"
     ]
    },
    {
     "name": "stderr",
     "output_type": "stream",
     "text": [
      "Epoch 1/7:  26%|██▋       | 2001/7569 [05:27<15:04,  6.16it/s, loss=2.3024]"
     ]
    },
    {
     "name": "stdout",
     "output_type": "stream",
     "text": [
      "\n",
      "Step 2000, Loss: 2.3024\n"
     ]
    },
    {
     "name": "stderr",
     "output_type": "stream",
     "text": [
      "Epoch 1/7:  28%|██▊       | 2101/7569 [05:44<15:30,  5.88it/s, loss=3.1964]"
     ]
    },
    {
     "name": "stdout",
     "output_type": "stream",
     "text": [
      "\n",
      "Step 2100, Loss: 3.1964\n"
     ]
    },
    {
     "name": "stderr",
     "output_type": "stream",
     "text": [
      "Epoch 1/7:  29%|██▉       | 2202/7569 [06:00<14:39,  6.11it/s, loss=3.6681]"
     ]
    },
    {
     "name": "stdout",
     "output_type": "stream",
     "text": [
      "\n",
      "Step 2200, Loss: 5.1633\n"
     ]
    },
    {
     "name": "stderr",
     "output_type": "stream",
     "text": [
      "Epoch 1/7:  30%|███       | 2302/7569 [06:17<15:20,  5.72it/s, loss=4.5968]"
     ]
    },
    {
     "name": "stdout",
     "output_type": "stream",
     "text": [
      "\n",
      "Step 2300, Loss: 3.0276\n"
     ]
    },
    {
     "name": "stderr",
     "output_type": "stream",
     "text": [
      "Epoch 1/7:  32%|███▏      | 2401/7569 [06:34<14:49,  5.81it/s, loss=3.7124]"
     ]
    },
    {
     "name": "stdout",
     "output_type": "stream",
     "text": [
      "\n",
      "Step 2400, Loss: 3.7124\n"
     ]
    },
    {
     "name": "stderr",
     "output_type": "stream",
     "text": [
      "Epoch 1/7:  33%|███▎      | 2502/7569 [06:51<15:40,  5.39it/s, loss=3.3107]"
     ]
    },
    {
     "name": "stdout",
     "output_type": "stream",
     "text": [
      "\n",
      "Step 2500, Loss: 5.1516\n"
     ]
    },
    {
     "name": "stderr",
     "output_type": "stream",
     "text": [
      "Epoch 1/7:  34%|███▍      | 2602/7569 [07:08<14:14,  5.81it/s, loss=2.6441]"
     ]
    },
    {
     "name": "stdout",
     "output_type": "stream",
     "text": [
      "\n",
      "Step 2600, Loss: 4.2398\n"
     ]
    },
    {
     "name": "stderr",
     "output_type": "stream",
     "text": [
      "Epoch 1/7:  36%|███▌      | 2701/7569 [07:25<15:03,  5.39it/s, loss=3.4073]"
     ]
    },
    {
     "name": "stdout",
     "output_type": "stream",
     "text": [
      "\n",
      "Step 2700, Loss: 2.7204\n"
     ]
    },
    {
     "name": "stderr",
     "output_type": "stream",
     "text": [
      "Epoch 1/7:  37%|███▋      | 2802/7569 [07:42<13:45,  5.78it/s, loss=3.2233]"
     ]
    },
    {
     "name": "stdout",
     "output_type": "stream",
     "text": [
      "\n",
      "Step 2800, Loss: 3.7710\n"
     ]
    },
    {
     "name": "stderr",
     "output_type": "stream",
     "text": [
      "Epoch 1/7:  38%|███▊      | 2902/7569 [08:00<14:21,  5.42it/s, loss=3.1842]"
     ]
    },
    {
     "name": "stdout",
     "output_type": "stream",
     "text": [
      "\n",
      "Step 2900, Loss: 2.3089\n"
     ]
    },
    {
     "name": "stderr",
     "output_type": "stream",
     "text": [
      "Epoch 1/7:  40%|███▉      | 3002/7569 [08:17<13:41,  5.56it/s, loss=3.3410]"
     ]
    },
    {
     "name": "stdout",
     "output_type": "stream",
     "text": [
      "\n",
      "Step 3000, Loss: 4.7596\n"
     ]
    },
    {
     "name": "stderr",
     "output_type": "stream",
     "text": [
      "Epoch 1/7:  41%|████      | 3101/7569 [08:34<12:58,  5.74it/s, loss=3.2989]"
     ]
    },
    {
     "name": "stdout",
     "output_type": "stream",
     "text": [
      "\n",
      "Step 3100, Loss: 3.2989\n"
     ]
    },
    {
     "name": "stderr",
     "output_type": "stream",
     "text": [
      "Epoch 1/7:  42%|████▏     | 3202/7569 [08:51<12:25,  5.86it/s, loss=5.5080]"
     ]
    },
    {
     "name": "stdout",
     "output_type": "stream",
     "text": [
      "\n",
      "Step 3200, Loss: 2.2624\n"
     ]
    },
    {
     "name": "stderr",
     "output_type": "stream",
     "text": [
      "Epoch 1/7:  44%|████▎     | 3301/7569 [09:08<12:22,  5.75it/s, loss=3.2328]"
     ]
    },
    {
     "name": "stdout",
     "output_type": "stream",
     "text": [
      "\n",
      "Step 3300, Loss: 3.2328\n"
     ]
    },
    {
     "name": "stderr",
     "output_type": "stream",
     "text": [
      "Epoch 1/7:  45%|████▍     | 3402/7569 [09:25<11:58,  5.80it/s, loss=5.0764]"
     ]
    },
    {
     "name": "stdout",
     "output_type": "stream",
     "text": [
      "\n",
      "Step 3400, Loss: 5.4340\n"
     ]
    },
    {
     "name": "stderr",
     "output_type": "stream",
     "text": [
      "Epoch 1/7:  46%|████▋     | 3502/7569 [09:43<11:05,  6.11it/s, loss=3.5665]"
     ]
    },
    {
     "name": "stdout",
     "output_type": "stream",
     "text": [
      "\n",
      "Step 3500, Loss: 3.4171\n"
     ]
    },
    {
     "name": "stderr",
     "output_type": "stream",
     "text": [
      "Epoch 1/7:  48%|████▊     | 3602/7569 [10:00<12:12,  5.41it/s, loss=4.5741]"
     ]
    },
    {
     "name": "stdout",
     "output_type": "stream",
     "text": [
      "\n",
      "Step 3600, Loss: 3.4549\n"
     ]
    },
    {
     "name": "stderr",
     "output_type": "stream",
     "text": [
      "Epoch 1/7:  49%|████▉     | 3701/7569 [10:16<11:06,  5.80it/s, loss=2.8294]"
     ]
    },
    {
     "name": "stdout",
     "output_type": "stream",
     "text": [
      "\n",
      "Step 3700, Loss: 2.8294\n"
     ]
    },
    {
     "name": "stderr",
     "output_type": "stream",
     "text": [
      "Epoch 1/7:  50%|█████     | 3802/7569 [10:33<10:35,  5.93it/s, loss=2.6851]"
     ]
    },
    {
     "name": "stdout",
     "output_type": "stream",
     "text": [
      "\n",
      "Step 3800, Loss: 3.1029\n"
     ]
    },
    {
     "name": "stderr",
     "output_type": "stream",
     "text": [
      "Epoch 1/7:  52%|█████▏    | 3902/7569 [10:50<10:01,  6.09it/s, loss=4.9797]"
     ]
    },
    {
     "name": "stdout",
     "output_type": "stream",
     "text": [
      "\n",
      "Step 3900, Loss: 4.1275\n"
     ]
    },
    {
     "name": "stderr",
     "output_type": "stream",
     "text": [
      "Epoch 1/7:  53%|█████▎    | 4002/7569 [11:07<10:01,  5.93it/s, loss=3.0110]"
     ]
    },
    {
     "name": "stdout",
     "output_type": "stream",
     "text": [
      "\n",
      "Step 4000, Loss: 3.2857\n"
     ]
    },
    {
     "name": "stderr",
     "output_type": "stream",
     "text": [
      "Epoch 1/7:  54%|█████▍    | 4102/7569 [11:24<10:12,  5.66it/s, loss=3.1558]"
     ]
    },
    {
     "name": "stdout",
     "output_type": "stream",
     "text": [
      "\n",
      "Step 4100, Loss: 3.1963\n"
     ]
    },
    {
     "name": "stderr",
     "output_type": "stream",
     "text": [
      "Epoch 1/7:  56%|█████▌    | 4202/7569 [11:41<09:27,  5.94it/s, loss=4.0025]"
     ]
    },
    {
     "name": "stdout",
     "output_type": "stream",
     "text": [
      "\n",
      "Step 4200, Loss: 2.4320\n"
     ]
    },
    {
     "name": "stderr",
     "output_type": "stream",
     "text": [
      "Epoch 1/7:  57%|█████▋    | 4301/7569 [11:58<09:11,  5.92it/s, loss=5.1172]"
     ]
    },
    {
     "name": "stdout",
     "output_type": "stream",
     "text": [
      "\n",
      "Step 4300, Loss: 5.0898\n"
     ]
    },
    {
     "name": "stderr",
     "output_type": "stream",
     "text": [
      "Epoch 1/7:  58%|█████▊    | 4402/7569 [12:15<09:00,  5.86it/s, loss=2.2347]"
     ]
    },
    {
     "name": "stdout",
     "output_type": "stream",
     "text": [
      "\n",
      "Step 4400, Loss: 4.1418\n"
     ]
    },
    {
     "name": "stderr",
     "output_type": "stream",
     "text": [
      "Epoch 1/7:  59%|█████▉    | 4502/7569 [12:32<09:05,  5.62it/s, loss=4.1881]"
     ]
    },
    {
     "name": "stdout",
     "output_type": "stream",
     "text": [
      "\n",
      "Step 4500, Loss: 1.8499\n"
     ]
    },
    {
     "name": "stderr",
     "output_type": "stream",
     "text": [
      "Epoch 1/7:  61%|██████    | 4602/7569 [12:49<08:30,  5.82it/s, loss=3.6372]"
     ]
    },
    {
     "name": "stdout",
     "output_type": "stream",
     "text": [
      "\n",
      "Step 4600, Loss: 2.7161\n"
     ]
    },
    {
     "name": "stderr",
     "output_type": "stream",
     "text": [
      "Epoch 1/7:  62%|██████▏   | 4701/7569 [13:06<08:21,  5.72it/s, loss=1.9624]"
     ]
    },
    {
     "name": "stdout",
     "output_type": "stream",
     "text": [
      "\n",
      "Step 4700, Loss: 1.9624\n"
     ]
    },
    {
     "name": "stderr",
     "output_type": "stream",
     "text": [
      "Epoch 1/7:  63%|██████▎   | 4802/7569 [13:23<08:03,  5.72it/s, loss=2.2358]"
     ]
    },
    {
     "name": "stdout",
     "output_type": "stream",
     "text": [
      "\n",
      "Step 4800, Loss: 5.0599\n"
     ]
    },
    {
     "name": "stderr",
     "output_type": "stream",
     "text": [
      "Epoch 1/7:  65%|██████▍   | 4901/7569 [13:39<07:29,  5.94it/s, loss=4.6938]"
     ]
    },
    {
     "name": "stdout",
     "output_type": "stream",
     "text": [
      "\n",
      "Step 4900, Loss: 4.6938\n"
     ]
    },
    {
     "name": "stderr",
     "output_type": "stream",
     "text": [
      "Epoch 1/7:  66%|██████▌   | 5002/7569 [13:56<07:09,  5.97it/s, loss=3.5705]"
     ]
    },
    {
     "name": "stdout",
     "output_type": "stream",
     "text": [
      "\n",
      "Step 5000, Loss: 4.0006\n"
     ]
    },
    {
     "name": "stderr",
     "output_type": "stream",
     "text": [
      "Epoch 1/7:  67%|██████▋   | 5102/7569 [14:13<06:57,  5.90it/s, loss=4.6136]"
     ]
    },
    {
     "name": "stdout",
     "output_type": "stream",
     "text": [
      "\n",
      "Step 5100, Loss: 4.3951\n"
     ]
    },
    {
     "name": "stderr",
     "output_type": "stream",
     "text": [
      "Epoch 1/7:  69%|██████▊   | 5202/7569 [14:30<06:56,  5.68it/s, loss=4.3218]"
     ]
    },
    {
     "name": "stdout",
     "output_type": "stream",
     "text": [
      "\n",
      "Step 5200, Loss: 1.9400\n"
     ]
    },
    {
     "name": "stderr",
     "output_type": "stream",
     "text": [
      "Epoch 1/7:  70%|███████   | 5302/7569 [14:47<06:20,  5.96it/s, loss=3.8912]"
     ]
    },
    {
     "name": "stdout",
     "output_type": "stream",
     "text": [
      "\n",
      "Step 5300, Loss: 3.2664\n"
     ]
    },
    {
     "name": "stderr",
     "output_type": "stream",
     "text": [
      "Epoch 1/7:  71%|███████▏  | 5402/7569 [15:04<06:10,  5.85it/s, loss=5.7806]"
     ]
    },
    {
     "name": "stdout",
     "output_type": "stream",
     "text": [
      "\n",
      "Step 5400, Loss: 5.3024\n"
     ]
    },
    {
     "name": "stderr",
     "output_type": "stream",
     "text": [
      "Epoch 1/7:  73%|███████▎  | 5502/7569 [15:21<06:06,  5.63it/s, loss=5.1289]"
     ]
    },
    {
     "name": "stdout",
     "output_type": "stream",
     "text": [
      "\n",
      "Step 5500, Loss: 5.3649\n"
     ]
    },
    {
     "name": "stderr",
     "output_type": "stream",
     "text": [
      "Epoch 1/7:  74%|███████▍  | 5602/7569 [15:37<05:28,  6.00it/s, loss=3.5915]"
     ]
    },
    {
     "name": "stdout",
     "output_type": "stream",
     "text": [
      "\n",
      "Step 5600, Loss: 5.0912\n"
     ]
    },
    {
     "name": "stderr",
     "output_type": "stream",
     "text": [
      "Epoch 1/7:  75%|███████▌  | 5702/7569 [15:54<05:21,  5.81it/s, loss=2.9038]"
     ]
    },
    {
     "name": "stdout",
     "output_type": "stream",
     "text": [
      "\n",
      "Step 5700, Loss: 3.7837\n"
     ]
    },
    {
     "name": "stderr",
     "output_type": "stream",
     "text": [
      "Epoch 1/7:  77%|███████▋  | 5802/7569 [16:11<05:07,  5.74it/s, loss=3.0099]"
     ]
    },
    {
     "name": "stdout",
     "output_type": "stream",
     "text": [
      "\n",
      "Step 5800, Loss: 3.6106\n"
     ]
    },
    {
     "name": "stderr",
     "output_type": "stream",
     "text": [
      "Epoch 1/7:  78%|███████▊  | 5902/7569 [16:28<04:53,  5.68it/s, loss=2.3801]"
     ]
    },
    {
     "name": "stdout",
     "output_type": "stream",
     "text": [
      "\n",
      "Step 5900, Loss: 5.1821\n"
     ]
    },
    {
     "name": "stderr",
     "output_type": "stream",
     "text": [
      "Epoch 1/7:  79%|███████▉  | 6002/7569 [16:45<04:30,  5.79it/s, loss=4.5526]"
     ]
    },
    {
     "name": "stdout",
     "output_type": "stream",
     "text": [
      "\n",
      "Step 6000, Loss: 5.0998\n"
     ]
    },
    {
     "name": "stderr",
     "output_type": "stream",
     "text": [
      "Epoch 1/7:  81%|████████  | 6101/7569 [17:01<04:14,  5.78it/s, loss=4.8710]"
     ]
    },
    {
     "name": "stdout",
     "output_type": "stream",
     "text": [
      "\n",
      "Step 6100, Loss: 4.8710\n"
     ]
    },
    {
     "name": "stderr",
     "output_type": "stream",
     "text": [
      "Epoch 1/7:  82%|████████▏ | 6202/7569 [17:18<04:00,  5.69it/s, loss=3.0193]"
     ]
    },
    {
     "name": "stdout",
     "output_type": "stream",
     "text": [
      "\n",
      "Step 6200, Loss: 3.8896\n"
     ]
    },
    {
     "name": "stderr",
     "output_type": "stream",
     "text": [
      "Epoch 1/7:  83%|████████▎ | 6302/7569 [17:35<03:39,  5.78it/s, loss=4.1206]"
     ]
    },
    {
     "name": "stdout",
     "output_type": "stream",
     "text": [
      "\n",
      "Step 6300, Loss: 4.5176\n"
     ]
    },
    {
     "name": "stderr",
     "output_type": "stream",
     "text": [
      "Epoch 1/7:  85%|████████▍ | 6402/7569 [17:52<03:26,  5.65it/s, loss=4.7562]"
     ]
    },
    {
     "name": "stdout",
     "output_type": "stream",
     "text": [
      "\n",
      "Step 6400, Loss: 2.8918\n"
     ]
    },
    {
     "name": "stderr",
     "output_type": "stream",
     "text": [
      "Epoch 1/7:  86%|████████▌ | 6502/7569 [18:09<03:12,  5.54it/s, loss=2.6743]"
     ]
    },
    {
     "name": "stdout",
     "output_type": "stream",
     "text": [
      "\n",
      "Step 6500, Loss: 4.0855\n"
     ]
    },
    {
     "name": "stderr",
     "output_type": "stream",
     "text": [
      "Epoch 1/7:  87%|████████▋ | 6602/7569 [18:26<02:48,  5.75it/s, loss=2.5326]"
     ]
    },
    {
     "name": "stdout",
     "output_type": "stream",
     "text": [
      "\n",
      "Step 6600, Loss: 1.7848\n"
     ]
    },
    {
     "name": "stderr",
     "output_type": "stream",
     "text": [
      "Epoch 1/7:  89%|████████▊ | 6702/7569 [18:43<02:28,  5.82it/s, loss=3.2580]"
     ]
    },
    {
     "name": "stdout",
     "output_type": "stream",
     "text": [
      "\n",
      "Step 6700, Loss: 2.3623\n"
     ]
    },
    {
     "name": "stderr",
     "output_type": "stream",
     "text": [
      "Epoch 1/7:  90%|████████▉ | 6802/7569 [19:00<02:33,  4.99it/s, loss=3.8185]"
     ]
    },
    {
     "name": "stdout",
     "output_type": "stream",
     "text": [
      "\n",
      "Step 6800, Loss: 2.7231\n"
     ]
    },
    {
     "name": "stderr",
     "output_type": "stream",
     "text": [
      "Epoch 1/7:  91%|█████████ | 6902/7569 [19:16<01:56,  5.74it/s, loss=4.0423]"
     ]
    },
    {
     "name": "stdout",
     "output_type": "stream",
     "text": [
      "\n",
      "Step 6900, Loss: 2.4312\n"
     ]
    },
    {
     "name": "stderr",
     "output_type": "stream",
     "text": [
      "Epoch 1/7:  93%|█████████▎| 7002/7569 [19:33<01:36,  5.88it/s, loss=4.1049]"
     ]
    },
    {
     "name": "stdout",
     "output_type": "stream",
     "text": [
      "\n",
      "Step 7000, Loss: 3.4869\n"
     ]
    },
    {
     "name": "stderr",
     "output_type": "stream",
     "text": [
      "Epoch 1/7:  94%|█████████▍| 7102/7569 [19:50<01:21,  5.72it/s, loss=4.4933]"
     ]
    },
    {
     "name": "stdout",
     "output_type": "stream",
     "text": [
      "\n",
      "Step 7100, Loss: 3.0369\n"
     ]
    },
    {
     "name": "stderr",
     "output_type": "stream",
     "text": [
      "Epoch 1/7:  95%|█████████▌| 7202/7569 [20:07<01:05,  5.58it/s, loss=2.2262]"
     ]
    },
    {
     "name": "stdout",
     "output_type": "stream",
     "text": [
      "\n",
      "Step 7200, Loss: 2.2538\n"
     ]
    },
    {
     "name": "stderr",
     "output_type": "stream",
     "text": [
      "Epoch 1/7:  96%|█████████▋| 7302/7569 [20:23<00:43,  6.07it/s, loss=3.1765]"
     ]
    },
    {
     "name": "stdout",
     "output_type": "stream",
     "text": [
      "\n",
      "Step 7300, Loss: 4.8730\n"
     ]
    },
    {
     "name": "stderr",
     "output_type": "stream",
     "text": [
      "Epoch 1/7:  98%|█████████▊| 7402/7569 [20:40<00:29,  5.69it/s, loss=4.1515]"
     ]
    },
    {
     "name": "stdout",
     "output_type": "stream",
     "text": [
      "\n",
      "Step 7400, Loss: 5.7678\n"
     ]
    },
    {
     "name": "stderr",
     "output_type": "stream",
     "text": [
      "Epoch 1/7:  99%|█████████▉| 7502/7569 [20:57<00:12,  5.38it/s, loss=2.6996]"
     ]
    },
    {
     "name": "stdout",
     "output_type": "stream",
     "text": [
      "\n",
      "Step 7500, Loss: 5.0806\n"
     ]
    },
    {
     "name": "stderr",
     "output_type": "stream",
     "text": [
      "Epoch 1/7: 100%|██████████| 7569/7569 [21:09<00:00,  5.96it/s, loss=5.4632]\n"
     ]
    },
    {
     "name": "stdout",
     "output_type": "stream",
     "text": [
      "\n",
      "Epoch 1 - Avg Train Loss: 3.8623\n",
      "Epoch 1 - Avg Val Loss: 2.1116\n"
     ]
    },
    {
     "name": "stderr",
     "output_type": "stream",
     "text": [
      "Epoch 2/7:   0%|          | 2/7569 [00:00<23:38,  5.34it/s, loss=4.9636]"
     ]
    },
    {
     "name": "stdout",
     "output_type": "stream",
     "text": [
      "\n",
      "Step 0, Loss: 2.8015\n"
     ]
    },
    {
     "name": "stderr",
     "output_type": "stream",
     "text": [
      "Epoch 2/7:   1%|▏         | 102/7569 [00:17<21:33,  5.77it/s, loss=2.4070]"
     ]
    },
    {
     "name": "stdout",
     "output_type": "stream",
     "text": [
      "\n",
      "Step 100, Loss: 2.8391\n"
     ]
    },
    {
     "name": "stderr",
     "output_type": "stream",
     "text": [
      "Epoch 2/7:   3%|▎         | 202/7569 [00:33<21:21,  5.75it/s, loss=4.3700]"
     ]
    },
    {
     "name": "stdout",
     "output_type": "stream",
     "text": [
      "\n",
      "Step 200, Loss: 3.6890\n"
     ]
    },
    {
     "name": "stderr",
     "output_type": "stream",
     "text": [
      "Epoch 2/7:   4%|▍         | 302/7569 [00:50<20:02,  6.04it/s, loss=2.5060]"
     ]
    },
    {
     "name": "stdout",
     "output_type": "stream",
     "text": [
      "\n",
      "Step 300, Loss: 4.0156\n"
     ]
    },
    {
     "name": "stderr",
     "output_type": "stream",
     "text": [
      "Epoch 2/7:   5%|▌         | 402/7569 [01:07<21:34,  5.54it/s, loss=2.9012]"
     ]
    },
    {
     "name": "stdout",
     "output_type": "stream",
     "text": [
      "\n",
      "Step 400, Loss: 5.4762\n"
     ]
    },
    {
     "name": "stderr",
     "output_type": "stream",
     "text": [
      "Epoch 2/7:   7%|▋         | 502/7569 [01:24<19:25,  6.06it/s, loss=3.2295]"
     ]
    },
    {
     "name": "stdout",
     "output_type": "stream",
     "text": [
      "\n",
      "Step 500, Loss: 4.8582\n"
     ]
    },
    {
     "name": "stderr",
     "output_type": "stream",
     "text": [
      "Epoch 2/7:   8%|▊         | 602/7569 [01:41<21:22,  5.43it/s, loss=1.7444]"
     ]
    },
    {
     "name": "stdout",
     "output_type": "stream",
     "text": [
      "\n",
      "Step 600, Loss: 4.5097\n"
     ]
    },
    {
     "name": "stderr",
     "output_type": "stream",
     "text": [
      "Epoch 2/7:   9%|▉         | 702/7569 [01:58<19:58,  5.73it/s, loss=4.5195]"
     ]
    },
    {
     "name": "stdout",
     "output_type": "stream",
     "text": [
      "\n",
      "Step 700, Loss: 2.4461\n"
     ]
    },
    {
     "name": "stderr",
     "output_type": "stream",
     "text": [
      "Epoch 2/7:  11%|█         | 802/7569 [02:15<19:53,  5.67it/s, loss=3.2528]"
     ]
    },
    {
     "name": "stdout",
     "output_type": "stream",
     "text": [
      "\n",
      "Step 800, Loss: 3.5975\n"
     ]
    },
    {
     "name": "stderr",
     "output_type": "stream",
     "text": [
      "Epoch 2/7:  12%|█▏        | 902/7569 [02:32<19:33,  5.68it/s, loss=4.5006]"
     ]
    },
    {
     "name": "stdout",
     "output_type": "stream",
     "text": [
      "\n",
      "Step 900, Loss: 3.8696\n"
     ]
    },
    {
     "name": "stderr",
     "output_type": "stream",
     "text": [
      "Epoch 2/7:  13%|█▎        | 1002/7569 [02:49<18:38,  5.87it/s, loss=2.4519]"
     ]
    },
    {
     "name": "stdout",
     "output_type": "stream",
     "text": [
      "\n",
      "Step 1000, Loss: 4.3021\n"
     ]
    },
    {
     "name": "stderr",
     "output_type": "stream",
     "text": [
      "Epoch 2/7:  15%|█▍        | 1102/7569 [03:06<18:24,  5.86it/s, loss=3.5574]"
     ]
    },
    {
     "name": "stdout",
     "output_type": "stream",
     "text": [
      "\n",
      "Step 1100, Loss: 2.8928\n"
     ]
    },
    {
     "name": "stderr",
     "output_type": "stream",
     "text": [
      "Epoch 2/7:  16%|█▌        | 1202/7569 [03:23<18:03,  5.88it/s, loss=4.5812]"
     ]
    },
    {
     "name": "stdout",
     "output_type": "stream",
     "text": [
      "\n",
      "Step 1200, Loss: 2.4564\n"
     ]
    },
    {
     "name": "stderr",
     "output_type": "stream",
     "text": [
      "Epoch 2/7:  17%|█▋        | 1301/7569 [03:40<17:18,  6.04it/s, loss=2.8302]"
     ]
    },
    {
     "name": "stdout",
     "output_type": "stream",
     "text": [
      "\n",
      "Step 1300, Loss: 2.8302\n"
     ]
    },
    {
     "name": "stderr",
     "output_type": "stream",
     "text": [
      "Epoch 2/7:  19%|█▊        | 1401/7569 [03:57<18:14,  5.63it/s, loss=5.0627]"
     ]
    },
    {
     "name": "stdout",
     "output_type": "stream",
     "text": [
      "\n",
      "Step 1400, Loss: 3.2608\n"
     ]
    },
    {
     "name": "stderr",
     "output_type": "stream",
     "text": [
      "Epoch 2/7:  20%|█▉        | 1502/7569 [04:14<17:02,  5.93it/s, loss=1.9881]"
     ]
    },
    {
     "name": "stdout",
     "output_type": "stream",
     "text": [
      "\n",
      "Step 1500, Loss: 4.8714\n"
     ]
    },
    {
     "name": "stderr",
     "output_type": "stream",
     "text": [
      "Epoch 2/7:  21%|██        | 1602/7569 [04:31<16:35,  5.99it/s, loss=5.2028]"
     ]
    },
    {
     "name": "stdout",
     "output_type": "stream",
     "text": [
      "\n",
      "Step 1600, Loss: 4.4396\n"
     ]
    },
    {
     "name": "stderr",
     "output_type": "stream",
     "text": [
      "Epoch 2/7:  22%|██▏       | 1702/7569 [04:48<17:10,  5.69it/s, loss=2.5680]"
     ]
    },
    {
     "name": "stdout",
     "output_type": "stream",
     "text": [
      "\n",
      "Step 1700, Loss: 3.7377\n"
     ]
    },
    {
     "name": "stderr",
     "output_type": "stream",
     "text": [
      "Epoch 2/7:  24%|██▍       | 1802/7569 [05:06<19:20,  4.97it/s, loss=4.2260]"
     ]
    },
    {
     "name": "stdout",
     "output_type": "stream",
     "text": [
      "\n",
      "Step 1800, Loss: 2.1059\n"
     ]
    },
    {
     "name": "stderr",
     "output_type": "stream",
     "text": [
      "Epoch 2/7:  25%|██▌       | 1901/7569 [05:44<44:08,  2.14it/s, loss=5.6566]"
     ]
    },
    {
     "name": "stdout",
     "output_type": "stream",
     "text": [
      "\n",
      "Step 1900, Loss: 5.6566\n"
     ]
    },
    {
     "name": "stderr",
     "output_type": "stream",
     "text": [
      "Epoch 2/7:  26%|██▋       | 2002/7569 [06:03<14:56,  6.21it/s, loss=4.6067]"
     ]
    },
    {
     "name": "stdout",
     "output_type": "stream",
     "text": [
      "\n",
      "Step 2000, Loss: 4.8224\n"
     ]
    },
    {
     "name": "stderr",
     "output_type": "stream",
     "text": [
      "Epoch 2/7:  28%|██▊       | 2102/7569 [06:19<14:54,  6.11it/s, loss=2.9705]"
     ]
    },
    {
     "name": "stdout",
     "output_type": "stream",
     "text": [
      "\n",
      "Step 2100, Loss: 2.3763\n"
     ]
    },
    {
     "name": "stderr",
     "output_type": "stream",
     "text": [
      "Epoch 2/7:  29%|██▉       | 2202/7569 [06:35<15:01,  5.95it/s, loss=3.5923]"
     ]
    },
    {
     "name": "stdout",
     "output_type": "stream",
     "text": [
      "\n",
      "Step 2200, Loss: 4.7283\n"
     ]
    },
    {
     "name": "stderr",
     "output_type": "stream",
     "text": [
      "Epoch 2/7:  30%|███       | 2302/7569 [06:51<13:40,  6.42it/s, loss=2.5830]"
     ]
    },
    {
     "name": "stdout",
     "output_type": "stream",
     "text": [
      "\n",
      "Step 2300, Loss: 2.2411\n"
     ]
    },
    {
     "name": "stderr",
     "output_type": "stream",
     "text": [
      "Epoch 2/7:  32%|███▏      | 2402/7569 [07:08<13:58,  6.16it/s, loss=2.3030]"
     ]
    },
    {
     "name": "stdout",
     "output_type": "stream",
     "text": [
      "\n",
      "Step 2400, Loss: 3.8562\n"
     ]
    },
    {
     "name": "stderr",
     "output_type": "stream",
     "text": [
      "Epoch 2/7:  33%|███▎      | 2502/7569 [07:24<14:16,  5.92it/s, loss=2.6088]"
     ]
    },
    {
     "name": "stdout",
     "output_type": "stream",
     "text": [
      "\n",
      "Step 2500, Loss: 2.7337\n"
     ]
    },
    {
     "name": "stderr",
     "output_type": "stream",
     "text": [
      "Epoch 2/7:  34%|███▍      | 2602/7569 [07:40<13:46,  6.01it/s, loss=2.5661]"
     ]
    },
    {
     "name": "stdout",
     "output_type": "stream",
     "text": [
      "\n",
      "Step 2600, Loss: 3.4622\n"
     ]
    },
    {
     "name": "stderr",
     "output_type": "stream",
     "text": [
      "Epoch 2/7:  36%|███▌      | 2701/7569 [07:56<13:41,  5.92it/s, loss=4.3011]"
     ]
    },
    {
     "name": "stdout",
     "output_type": "stream",
     "text": [
      "\n",
      "Step 2700, Loss: 4.3011\n"
     ]
    },
    {
     "name": "stderr",
     "output_type": "stream",
     "text": [
      "Epoch 2/7:  37%|███▋      | 2802/7569 [08:13<13:36,  5.84it/s, loss=5.2815]"
     ]
    },
    {
     "name": "stdout",
     "output_type": "stream",
     "text": [
      "\n",
      "Step 2800, Loss: 1.7892\n"
     ]
    },
    {
     "name": "stderr",
     "output_type": "stream",
     "text": [
      "Epoch 2/7:  38%|███▊      | 2902/7569 [08:30<13:12,  5.89it/s, loss=2.6962]"
     ]
    },
    {
     "name": "stdout",
     "output_type": "stream",
     "text": [
      "\n",
      "Step 2900, Loss: 4.9848\n"
     ]
    },
    {
     "name": "stderr",
     "output_type": "stream",
     "text": [
      "Epoch 2/7:  40%|███▉      | 3002/7569 [08:47<12:36,  6.04it/s, loss=1.8218]"
     ]
    },
    {
     "name": "stdout",
     "output_type": "stream",
     "text": [
      "\n",
      "Step 3000, Loss: 2.1211\n"
     ]
    },
    {
     "name": "stderr",
     "output_type": "stream",
     "text": [
      "Epoch 2/7:  41%|████      | 3102/7569 [09:04<11:59,  6.21it/s, loss=2.1681]"
     ]
    },
    {
     "name": "stdout",
     "output_type": "stream",
     "text": [
      "\n",
      "Step 3100, Loss: 2.7618\n"
     ]
    },
    {
     "name": "stderr",
     "output_type": "stream",
     "text": [
      "Epoch 2/7:  42%|████▏     | 3202/7569 [09:21<11:47,  6.18it/s, loss=3.3362]"
     ]
    },
    {
     "name": "stdout",
     "output_type": "stream",
     "text": [
      "\n",
      "Step 3200, Loss: 1.6525\n"
     ]
    },
    {
     "name": "stderr",
     "output_type": "stream",
     "text": [
      "Epoch 2/7:  44%|████▎     | 3302/7569 [09:38<11:51,  6.00it/s, loss=2.0143]"
     ]
    },
    {
     "name": "stdout",
     "output_type": "stream",
     "text": [
      "\n",
      "Step 3300, Loss: 3.5871\n"
     ]
    },
    {
     "name": "stderr",
     "output_type": "stream",
     "text": [
      "Epoch 2/7:  45%|████▍     | 3402/7569 [09:54<11:40,  5.95it/s, loss=4.3437]"
     ]
    },
    {
     "name": "stdout",
     "output_type": "stream",
     "text": [
      "\n",
      "Step 3400, Loss: 5.1885\n"
     ]
    },
    {
     "name": "stderr",
     "output_type": "stream",
     "text": [
      "Epoch 2/7:  46%|████▋     | 3502/7569 [10:11<11:34,  5.85it/s, loss=3.2431]"
     ]
    },
    {
     "name": "stdout",
     "output_type": "stream",
     "text": [
      "\n",
      "Step 3500, Loss: 5.1578\n"
     ]
    },
    {
     "name": "stderr",
     "output_type": "stream",
     "text": [
      "Epoch 2/7:  48%|████▊     | 3602/7569 [10:28<12:19,  5.37it/s, loss=4.6302]"
     ]
    },
    {
     "name": "stdout",
     "output_type": "stream",
     "text": [
      "\n",
      "Step 3600, Loss: 4.2285\n"
     ]
    },
    {
     "name": "stderr",
     "output_type": "stream",
     "text": [
      "Epoch 2/7:  49%|████▉     | 3702/7569 [10:45<10:53,  5.92it/s, loss=3.5943]"
     ]
    },
    {
     "name": "stdout",
     "output_type": "stream",
     "text": [
      "\n",
      "Step 3700, Loss: 3.5842\n"
     ]
    },
    {
     "name": "stderr",
     "output_type": "stream",
     "text": [
      "Epoch 2/7:  50%|█████     | 3802/7569 [11:02<10:48,  5.81it/s, loss=1.9590]"
     ]
    },
    {
     "name": "stdout",
     "output_type": "stream",
     "text": [
      "\n",
      "Step 3800, Loss: 3.8404\n"
     ]
    },
    {
     "name": "stderr",
     "output_type": "stream",
     "text": [
      "Epoch 2/7:  52%|█████▏    | 3902/7569 [11:19<10:25,  5.86it/s, loss=3.1378]"
     ]
    },
    {
     "name": "stdout",
     "output_type": "stream",
     "text": [
      "\n",
      "Step 3900, Loss: 3.3029\n"
     ]
    },
    {
     "name": "stderr",
     "output_type": "stream",
     "text": [
      "Epoch 2/7:  53%|█████▎    | 4002/7569 [11:35<10:25,  5.71it/s, loss=3.4667]"
     ]
    },
    {
     "name": "stdout",
     "output_type": "stream",
     "text": [
      "\n",
      "Step 4000, Loss: 3.7223\n"
     ]
    },
    {
     "name": "stderr",
     "output_type": "stream",
     "text": [
      "Epoch 2/7:  54%|█████▍    | 4102/7569 [11:52<10:12,  5.66it/s, loss=2.6966]"
     ]
    },
    {
     "name": "stdout",
     "output_type": "stream",
     "text": [
      "\n",
      "Step 4100, Loss: 2.8895\n"
     ]
    },
    {
     "name": "stderr",
     "output_type": "stream",
     "text": [
      "Epoch 2/7:  56%|█████▌    | 4202/7569 [12:09<09:29,  5.92it/s, loss=4.5286]"
     ]
    },
    {
     "name": "stdout",
     "output_type": "stream",
     "text": [
      "\n",
      "Step 4200, Loss: 2.1420\n"
     ]
    },
    {
     "name": "stderr",
     "output_type": "stream",
     "text": [
      "Epoch 2/7:  57%|█████▋    | 4301/7569 [12:26<09:52,  5.52it/s, loss=3.0882]"
     ]
    },
    {
     "name": "stdout",
     "output_type": "stream",
     "text": [
      "\n",
      "Step 4300, Loss: 3.0882\n"
     ]
    },
    {
     "name": "stderr",
     "output_type": "stream",
     "text": [
      "Epoch 2/7:  58%|█████▊    | 4402/7569 [12:43<09:05,  5.81it/s, loss=2.9796]"
     ]
    },
    {
     "name": "stdout",
     "output_type": "stream",
     "text": [
      "\n",
      "Step 4400, Loss: 4.0353\n"
     ]
    },
    {
     "name": "stderr",
     "output_type": "stream",
     "text": [
      "Epoch 2/7:  59%|█████▉    | 4502/7569 [13:00<09:18,  5.49it/s, loss=2.8663]"
     ]
    },
    {
     "name": "stdout",
     "output_type": "stream",
     "text": [
      "\n",
      "Step 4500, Loss: 5.4027\n"
     ]
    },
    {
     "name": "stderr",
     "output_type": "stream",
     "text": [
      "Epoch 2/7:  61%|██████    | 4602/7569 [13:17<08:21,  5.91it/s, loss=3.3430]"
     ]
    },
    {
     "name": "stdout",
     "output_type": "stream",
     "text": [
      "\n",
      "Step 4600, Loss: 2.7530\n"
     ]
    },
    {
     "name": "stderr",
     "output_type": "stream",
     "text": [
      "Epoch 2/7:  62%|██████▏   | 4702/7569 [13:34<08:18,  5.75it/s, loss=4.8052]"
     ]
    },
    {
     "name": "stdout",
     "output_type": "stream",
     "text": [
      "\n",
      "Step 4700, Loss: 3.5755\n"
     ]
    },
    {
     "name": "stderr",
     "output_type": "stream",
     "text": [
      "Epoch 2/7:  63%|██████▎   | 4801/7569 [13:52<07:55,  5.82it/s, loss=3.7262]"
     ]
    },
    {
     "name": "stdout",
     "output_type": "stream",
     "text": [
      "\n",
      "Step 4800, Loss: 2.9224\n"
     ]
    },
    {
     "name": "stderr",
     "output_type": "stream",
     "text": [
      "Epoch 2/7:  65%|██████▍   | 4902/7569 [14:09<07:31,  5.91it/s, loss=4.6700]"
     ]
    },
    {
     "name": "stdout",
     "output_type": "stream",
     "text": [
      "\n",
      "Step 4900, Loss: 4.4626\n"
     ]
    },
    {
     "name": "stderr",
     "output_type": "stream",
     "text": [
      "Epoch 2/7:  66%|██████▌   | 5002/7569 [14:26<07:15,  5.90it/s, loss=1.7044]"
     ]
    },
    {
     "name": "stdout",
     "output_type": "stream",
     "text": [
      "\n",
      "Step 5000, Loss: 3.2837\n"
     ]
    },
    {
     "name": "stderr",
     "output_type": "stream",
     "text": [
      "Epoch 2/7:  67%|██████▋   | 5102/7569 [14:42<07:03,  5.82it/s, loss=4.9634]"
     ]
    },
    {
     "name": "stdout",
     "output_type": "stream",
     "text": [
      "\n",
      "Step 5100, Loss: 2.5136\n"
     ]
    },
    {
     "name": "stderr",
     "output_type": "stream",
     "text": [
      "Epoch 2/7:  69%|██████▊   | 5202/7569 [14:59<06:55,  5.70it/s, loss=2.4979]"
     ]
    },
    {
     "name": "stdout",
     "output_type": "stream",
     "text": [
      "\n",
      "Step 5200, Loss: 5.3107\n"
     ]
    },
    {
     "name": "stderr",
     "output_type": "stream",
     "text": [
      "Epoch 2/7:  70%|███████   | 5302/7569 [15:16<06:24,  5.90it/s, loss=3.7836]"
     ]
    },
    {
     "name": "stdout",
     "output_type": "stream",
     "text": [
      "\n",
      "Step 5300, Loss: 3.1689\n"
     ]
    },
    {
     "name": "stderr",
     "output_type": "stream",
     "text": [
      "Epoch 2/7:  71%|███████▏  | 5402/7569 [15:33<06:30,  5.56it/s, loss=1.8054]"
     ]
    },
    {
     "name": "stdout",
     "output_type": "stream",
     "text": [
      "\n",
      "Step 5400, Loss: 3.4476\n"
     ]
    },
    {
     "name": "stderr",
     "output_type": "stream",
     "text": [
      "Epoch 2/7:  73%|███████▎  | 5502/7569 [15:50<05:54,  5.83it/s, loss=1.6916]"
     ]
    },
    {
     "name": "stdout",
     "output_type": "stream",
     "text": [
      "\n",
      "Step 5500, Loss: 4.0163\n"
     ]
    },
    {
     "name": "stderr",
     "output_type": "stream",
     "text": [
      "Epoch 2/7:  74%|███████▍  | 5602/7569 [16:07<05:23,  6.08it/s, loss=2.3464]"
     ]
    },
    {
     "name": "stdout",
     "output_type": "stream",
     "text": [
      "\n",
      "Step 5600, Loss: 2.7913\n"
     ]
    },
    {
     "name": "stderr",
     "output_type": "stream",
     "text": [
      "Epoch 2/7:  75%|███████▌  | 5702/7569 [16:24<05:19,  5.85it/s, loss=3.3423]"
     ]
    },
    {
     "name": "stdout",
     "output_type": "stream",
     "text": [
      "\n",
      "Step 5700, Loss: 3.9179\n"
     ]
    },
    {
     "name": "stderr",
     "output_type": "stream",
     "text": [
      "Epoch 2/7:  77%|███████▋  | 5802/7569 [16:41<04:56,  5.96it/s, loss=2.9544]"
     ]
    },
    {
     "name": "stdout",
     "output_type": "stream",
     "text": [
      "\n",
      "Step 5800, Loss: 4.5985\n"
     ]
    },
    {
     "name": "stderr",
     "output_type": "stream",
     "text": [
      "Epoch 2/7:  78%|███████▊  | 5902/7569 [16:57<04:57,  5.60it/s, loss=4.8090]"
     ]
    },
    {
     "name": "stdout",
     "output_type": "stream",
     "text": [
      "\n",
      "Step 5900, Loss: 2.7901\n"
     ]
    },
    {
     "name": "stderr",
     "output_type": "stream",
     "text": [
      "Epoch 2/7:  79%|███████▉  | 6002/7569 [17:14<04:30,  5.80it/s, loss=4.5890]"
     ]
    },
    {
     "name": "stdout",
     "output_type": "stream",
     "text": [
      "\n",
      "Step 6000, Loss: 3.2330\n"
     ]
    },
    {
     "name": "stderr",
     "output_type": "stream",
     "text": [
      "Epoch 2/7:  81%|████████  | 6102/7569 [17:31<04:17,  5.70it/s, loss=5.2058]"
     ]
    },
    {
     "name": "stdout",
     "output_type": "stream",
     "text": [
      "\n",
      "Step 6100, Loss: 3.4629\n"
     ]
    },
    {
     "name": "stderr",
     "output_type": "stream",
     "text": [
      "Epoch 2/7:  82%|████████▏ | 6202/7569 [17:48<04:00,  5.69it/s, loss=5.6642]"
     ]
    },
    {
     "name": "stdout",
     "output_type": "stream",
     "text": [
      "\n",
      "Step 6200, Loss: 2.0717\n"
     ]
    },
    {
     "name": "stderr",
     "output_type": "stream",
     "text": [
      "Epoch 2/7:  83%|████████▎ | 6302/7569 [18:05<03:29,  6.05it/s, loss=2.9053]"
     ]
    },
    {
     "name": "stdout",
     "output_type": "stream",
     "text": [
      "\n",
      "Step 6300, Loss: 2.2172\n"
     ]
    },
    {
     "name": "stderr",
     "output_type": "stream",
     "text": [
      "Epoch 2/7:  85%|████████▍ | 6402/7569 [18:22<03:26,  5.66it/s, loss=4.7250]"
     ]
    },
    {
     "name": "stdout",
     "output_type": "stream",
     "text": [
      "\n",
      "Step 6400, Loss: 5.1932\n"
     ]
    },
    {
     "name": "stderr",
     "output_type": "stream",
     "text": [
      "Epoch 2/7:  86%|████████▌ | 6502/7569 [18:38<02:59,  5.96it/s, loss=2.9824]"
     ]
    },
    {
     "name": "stdout",
     "output_type": "stream",
     "text": [
      "\n",
      "Step 6500, Loss: 1.9469\n"
     ]
    },
    {
     "name": "stderr",
     "output_type": "stream",
     "text": [
      "Epoch 2/7:  87%|████████▋ | 6601/7569 [18:56<02:44,  5.88it/s, loss=2.0875]"
     ]
    },
    {
     "name": "stdout",
     "output_type": "stream",
     "text": [
      "\n",
      "Step 6600, Loss: 3.2489\n"
     ]
    },
    {
     "name": "stderr",
     "output_type": "stream",
     "text": [
      "Epoch 2/7:  89%|████████▊ | 6702/7569 [19:13<02:19,  6.20it/s, loss=2.8779]"
     ]
    },
    {
     "name": "stdout",
     "output_type": "stream",
     "text": [
      "\n",
      "Step 6700, Loss: 4.0169\n"
     ]
    },
    {
     "name": "stderr",
     "output_type": "stream",
     "text": [
      "Epoch 2/7:  90%|████████▉ | 6802/7569 [19:31<02:30,  5.09it/s, loss=2.1893]"
     ]
    },
    {
     "name": "stdout",
     "output_type": "stream",
     "text": [
      "\n",
      "Step 6800, Loss: 4.9080\n"
     ]
    },
    {
     "name": "stderr",
     "output_type": "stream",
     "text": [
      "Epoch 2/7:  91%|█████████ | 6902/7569 [19:49<01:56,  5.71it/s, loss=1.9933]"
     ]
    },
    {
     "name": "stdout",
     "output_type": "stream",
     "text": [
      "\n",
      "Step 6900, Loss: 5.1154\n"
     ]
    },
    {
     "name": "stderr",
     "output_type": "stream",
     "text": [
      "Epoch 2/7:  93%|█████████▎| 7002/7569 [20:10<01:52,  5.06it/s, loss=2.2035]"
     ]
    },
    {
     "name": "stdout",
     "output_type": "stream",
     "text": [
      "\n",
      "Step 7000, Loss: 4.2460\n"
     ]
    },
    {
     "name": "stderr",
     "output_type": "stream",
     "text": [
      "Epoch 2/7:  94%|█████████▍| 7102/7569 [20:27<01:24,  5.50it/s, loss=1.6002]"
     ]
    },
    {
     "name": "stdout",
     "output_type": "stream",
     "text": [
      "\n",
      "Step 7100, Loss: 5.4326\n"
     ]
    },
    {
     "name": "stderr",
     "output_type": "stream",
     "text": [
      "Epoch 2/7:  95%|█████████▌| 7202/7569 [20:49<01:14,  4.94it/s, loss=3.0046]"
     ]
    },
    {
     "name": "stdout",
     "output_type": "stream",
     "text": [
      "\n",
      "Step 7200, Loss: 4.3586\n"
     ]
    },
    {
     "name": "stderr",
     "output_type": "stream",
     "text": [
      "Epoch 2/7:  96%|█████████▋| 7302/7569 [21:08<00:48,  5.49it/s, loss=4.1804]"
     ]
    },
    {
     "name": "stdout",
     "output_type": "stream",
     "text": [
      "\n",
      "Step 7300, Loss: 3.0323\n"
     ]
    },
    {
     "name": "stderr",
     "output_type": "stream",
     "text": [
      "Epoch 2/7:  98%|█████████▊| 7401/7569 [21:26<00:36,  4.62it/s, loss=3.8627]"
     ]
    },
    {
     "name": "stdout",
     "output_type": "stream",
     "text": [
      "\n",
      "Step 7400, Loss: 3.8627\n"
     ]
    },
    {
     "name": "stderr",
     "output_type": "stream",
     "text": [
      "Epoch 2/7:  99%|█████████▉| 7501/7569 [21:46<00:15,  4.41it/s, loss=3.9116]"
     ]
    },
    {
     "name": "stdout",
     "output_type": "stream",
     "text": [
      "\n",
      "Step 7500, Loss: 3.9116\n"
     ]
    },
    {
     "name": "stderr",
     "output_type": "stream",
     "text": [
      "Epoch 2/7: 100%|██████████| 7569/7569 [21:59<00:00,  5.73it/s, loss=2.8034]\n"
     ]
    },
    {
     "name": "stdout",
     "output_type": "stream",
     "text": [
      "\n",
      "Epoch 2 - Avg Train Loss: 3.4619\n"
     ]
    }
   ],
   "source": [
    "import torch\n",
    "from torch.utils.data import DataLoader\n",
    "from torch.nn import CrossEntropyLoss\n",
    "from torch.optim.lr_scheduler import CosineAnnealingLR\n",
    "from tqdm import tqdm\n",
    "from transformers import (\n",
    "    AutoTokenizer, \n",
    "    AutoModelForSeq2SeqLM, \n",
    "    DataCollatorForSeq2Seq,\n",
    ")\n",
    "from datasets import Dataset\n",
    "import random\n",
    "\n",
    "# balances samples to significantly reduce training time for project constraints\n",
    "# also helps prevent the model from learning to predict yes/no for every question\n",
    "samplesSmall = [s for s in samples if len(s[\"target\"].split()) < 3]\n",
    "samplesLarge = [s for s in samples if len(s[\"target\"].split()) >= 3]\n",
    "random.seed(42)\n",
    "samplesBalanced = (\n",
    "    random.sample(samplesLarge, min(int(len(samples) * 0.7), len(samplesLarge))) + \n",
    "    random.sample(samplesSmall, min(int(len(samples) * 0.3), len(samplesSmall)))\n",
    ")\n",
    "random.shuffle(samplesBalanced)\n",
    "\n",
    "# convert existing data to hugging face dataset\n",
    "data = Dataset.from_list(samplesBalanced)\n",
    "\n",
    "# Setup\n",
    "model = AutoModelForSeq2SeqLM.from_pretrained(\"google/flan-t5-small\").to(\"cuda\")\n",
    "tokenizer = AutoTokenizer.from_pretrained(\"google/flan-t5-small\")\n",
    "\n",
    "def preprocess(samples):\n",
    "    modelInputs = tokenizer(\n",
    "        samples[\"input\"],\n",
    "        max_length=512,\n",
    "        truncation=True,\n",
    "        padding=False\n",
    "    )\n",
    "    targets = tokenizer(\n",
    "        samples[\"target\"],\n",
    "        max_length=128,\n",
    "        truncation=True,\n",
    "        padding=False\n",
    "    )\n",
    "    modelInputs[\"labels\"] = targets[\"input_ids\"]\n",
    "    return modelInputs\n",
    "\n",
    "trainValSplit = data.train_test_split(test_size=0.2)\n",
    "valTestSplit = trainValSplit[\"test\"].train_test_split(test_size=0.5)\n",
    "\n",
    "splits = {\n",
    "    \"train\": trainValSplit[\"train\"],\n",
    "    \"validation\": valTestSplit['train'],\n",
    "    \"test\": valTestSplit[\"test\"]\n",
    "}\n",
    "\n",
    "finalData = {\n",
    "    \"train\": splits[\"train\"].map(preprocess, batched=True, remove_columns=[\"input\", \"target\"]),\n",
    "    \"validation\": splits[\"validation\"].map(preprocess, batched=True, remove_columns=[\"input\", \"target\"]),\n",
    "    \"test\": splits[\"test\"].map(preprocess, batched=True, remove_columns=[\"input\", \"target\"])\n",
    "}\n",
    "\n",
    "dataCollator = DataCollatorForSeq2Seq(tokenizer=tokenizer, model=model)\n",
    "\n",
    "optimizer = torch.optim.AdamW(model.parameters(), lr=5e-6, weight_decay=0.01)\n",
    "\n",
    "# learning rate sceduling - reduces the lr over all epochs\n",
    "# helps model converge better by reducing oscillation\n",
    "scheduler = CosineAnnealingLR(optimizer, T_max=7)\n",
    "\n",
    "# Create dataloaders\n",
    "train_dataloader = DataLoader(\n",
    "    finalData[\"train\"], \n",
    "    batch_size=4, \n",
    "    shuffle=True, \n",
    "    collate_fn=dataCollator\n",
    ")\n",
    "\n",
    "val_dataloader = DataLoader(\n",
    "    finalData[\"validation\"],\n",
    "    batch_size=4,\n",
    "    collate_fn=dataCollator\n",
    ")\n",
    "\n",
    "num_epochs = 7\n",
    "device = \"cuda\"\n",
    "\n",
    "for epoch in range(num_epochs):\n",
    "    model.train()\n",
    "    total_loss = 0\n",
    "    \n",
    "    progress_bar = tqdm(train_dataloader, desc=f\"Epoch {epoch+1}/{num_epochs}\")\n",
    "    for step, batch in enumerate(progress_bar):\n",
    "        # look up more info\n",
    "        input_ids = batch[\"input_ids\"].to(device)\n",
    "        attention_mask = batch[\"attention_mask\"].to(device)\n",
    "        labels = batch[\"labels\"].to(device)\n",
    "        \n",
    "        # look up more info\n",
    "        # added label_smoothing - makes the model less confident and improves generalization (ability to perform in unseen data)\n",
    "        outputs = model(input_ids=input_ids, attention_mask=attention_mask, labels=labels)\n",
    "        logits = outputs.logits\n",
    "        loss_fct = CrossEntropyLoss(label_smoothing=0.1, ignore_index=-100)\n",
    "        loss = loss_fct(logits.view(-1, logits.size(-1)), labels.view(-1))        \n",
    "        \n",
    "        # look up more info\n",
    "        optimizer.zero_grad()\n",
    "        loss.backward()\n",
    "\n",
    "        # gradient clipping - prevents gradients from breaking if model updates by large amount\n",
    "        torch.nn.utils.clip_grad_norm_(model.parameters(), 1.0)\n",
    "        optimizer.step()\n",
    "\n",
    "        # clear memory to fix crash at 1800 steps\n",
    "        if step % 100 == 0:\n",
    "            torch.cuda.empty_cache()\n",
    "\n",
    "        total_loss += loss.item()\n",
    "        progress_bar.set_postfix({\"loss\": f\"{loss.item():.4f}\"})\n",
    "        \n",
    "        if step % 100 == 0:\n",
    "            print(f\"\\nStep {step}, Loss: {loss.item():.4f}\")\n",
    "    \n",
    "    avg_train_loss = total_loss / len(train_dataloader)\n",
    "    print(f\"\\nEpoch {epoch+1} - Avg Train Loss: {avg_train_loss:.4f}\")\n",
    "\n",
    "    scheduler.step()\n",
    "    \n",
    "    model.eval()\n",
    "    total_val_loss = 0\n",
    "    \n",
    "    with torch.no_grad():\n",
    "        for batch in val_dataloader:\n",
    "            input_ids = batch[\"input_ids\"].to(device)\n",
    "            attention_mask = batch[\"attention_mask\"].to(device)\n",
    "            labels = batch[\"labels\"].to(device)\n",
    "            \n",
    "            outputs = model(input_ids=input_ids, attention_mask=attention_mask, labels=labels)\n",
    "            total_val_loss += outputs.loss.item()\n",
    "    \n",
    "    avg_val_loss = total_val_loss / len(val_dataloader)\n",
    "    print(f\"Epoch {epoch+1} - Avg Val Loss: {avg_val_loss:.4f}\")\n",
    "    \n",
    "model.save_pretrained(\"./flan-t5-small-label-smooth-balanced\")\n",
    "tokenizer.save_pretrained(\"./flan-t5-small-label-smooth-balanced\")\n"
   ]
  },
  {
   "cell_type": "markdown",
   "id": "732dc213",
   "metadata": {},
   "source": [
    "Now that the model is fine-tuned on the initial dataset, it can be locally queried to it correctly provides predictions."
   ]
  },
  {
   "cell_type": "code",
   "execution_count": null,
   "id": "9c3d4eec",
   "metadata": {},
   "outputs": [
    {
     "name": "stdout",
     "output_type": "stream",
     "text": [
      "\n",
      "Q: Answer this question about Portugal: 14.1 What body/agency has the res...\n",
      "True: The Central Bank for the retail banking sector. ComissÃ£o do...\n",
      "Pred: The Financial Supervisory Authority of Portugal (Financial Supervisory Authority) is responsible for implementing, overseeing and enforcing any aspects of financial consumer protection laws and regulations. The Financial Supervisory Authority of Portugal (Financial Supervisory Authority) is responsible for implementing, overseeing and enforcing any aspects of financial consumer protection laws and regulations.\n",
      "\n",
      "Q: Answer this question about Cayman Islands: 3.20.1 Which of the followi...\n",
      "True: Limit of 1.25% of risk weighted assets...\n",
      "Pred: Tier 2 capital is not recognised by the Cayman Islands Monetary Authority\n",
      "\n",
      "Q: Answer this question about Lebanon: 12.1.1 a. Commercial banks...\n",
      "True: Banking Control Commision of Lebanon and Special investigati...\n",
      "Pred: Banking Control Commision of Lebanon and Special investigation Committee\n",
      "\n",
      "Q: Answer this question about Panama: 3.20.3 Are the following items dedu...\n",
      "True: No regulation yet...\n",
      "Pred: There are no deductions on Tier 1\n",
      "\n",
      "Q: Answer this question about Finland: 3.20.1 Which of the following item...\n",
      "True: Provided the instrument fulfils the CRR requirements for T2 ...\n",
      "Pred: Fund for general banking risk is allowed in CET1 capital (common equity tier 1 capital). Fund for general banking risk is allowed in CET1 capital (common equity tier 1 capital). Fund for general banking risk is allowed in CET1 capital (common equity tier 1 capital).\n",
      "\n",
      "Q: Answer this question about Guatemala: 9.1.1 5 - Type...\n",
      "True: High risk of irrecoverability...\n",
      "Pred: Crditos de pago hist3ricos, crditos de pago hist3ricos, crditos de pago hist3ricos, crditos de pago hist3ricos, crditos de pago hist3ricos, crditos de pago hist3ricos, crditos de pago hist3ricos, crditos de pa\n",
      "\n",
      "Q: Answer this question about San Marino: 8.2.1 The insurance fund is man...\n",
      "True: Central Bank of the Republic of San Marino...\n",
      "Pred: The fund is managed by the Central Bank of the Republic of San Marino.\n",
      "\n",
      "Q: Answer this question about Finland: 3.20.4 Are the following items ded...\n",
      "True: Deducted from CET1...\n",
      "Pred: Deducted from CET1\n",
      "\n",
      "Q: Answer this question about Slovenia: 14.3 What actions can the consume...\n",
      "True: Issue order to rectify breaches by a bank, issue order requi...\n",
      "Pred: The Slovenian Consumer Ombudsman may issue administrative sanctions to the banks for infringing the consumer protection laws and regulations. These sanctions may include reprimands of the bankâ€TMs customers, reprimands of the bankâ€TMs customers, reprimands of the bankâ€TMs customers, reprimands of the bankâ€TMs customers, reprimands of the bankâ€TMs customers, reprimands of the bankâ€TMs customers, reprimands of the bankâ€TMs\n",
      "\n",
      "Q: Answer this question about Russian Federation: 12.1.1 d. Bank-holding ...\n",
      "True: The Bank of Russia has no power to supervise bank-holding co...\n",
      "Pred: The Bank of Russia\n",
      "\n",
      "Q: Answer this question about Bolivia: 3.20.3 Are the following items ded...\n",
      "True: No se cuenta con normativa especÃ­fica al respecto...\n",
      "Pred: No se cuenta con normativa espec­fica al respecto\n",
      "\n",
      "Q: Answer this question about Greece: 3.20.4 Are the following items dedu...\n",
      "True: Part of the residual amount is deducted during the transitio...\n",
      "Pred: Deducted from T1\n",
      "\n",
      "Q: Answer this question about Hong Kong SAR, China: 2.2 What are the requ...\n",
      "True: A majority shareholder should provide detailed plan for the ...\n",
      "Pred: _x000D_ _x000D_ _x000D_ _x000D_ _x000D_ _x000D_ _x000D_ _x000D_ _x000D_ _x000D_ _x000D_ _x000D_ _x000D_ _x000D_ _x000D_ _x000D_ _x000D_ _x000D_ _x000D_ _x000D_ _x000D_ \n",
      "\n",
      "Q: Answer this question about Honduras: 3.20.3 Are the following items de...\n",
      "True: For loans and foreclosure assets by regulation. For investme...\n",
      "Pred: Deducted from total regulatory capital\n",
      "\n",
      "Q: Answer this question about Saudi Arabia: 1.10.1 What were the primary ...\n",
      "True: Incomplete application along with not fulfilling criteria....\n",
      "Pred: Business plan not viable.\n",
      "\n",
      "Q: Answer this question about Japan: 3.20.4 Are the following items deduc...\n",
      "True: Deducted from Common Equity Tier1 capital...\n",
      "Pred: Deducted from Common Equity Tier1 capital\n",
      "\n",
      "Q: Answer this question about Curaçao: 8.23 What happens when the deposit...\n",
      "True: Do not know...\n",
      "Pred: Do not know\n",
      "\n",
      "Q: Answer this question about Benin: 3.20.4 Are the following items deduc...\n",
      "True: Interdiction de dÃ©tenir ses propres actions...\n",
      "Pred: Interdiction de dtenir ses propres actions\n",
      "\n",
      "Q: Answer this question about Senegal: 3.1 Which regulatory capital adequ...\n",
      "True: Toutes les banques et les Ã©tablissements financiers Ã  cara...\n",
      "Pred: Toutes les banques et les tablissements financiers  caract re bancaire\n",
      "\n",
      "Q: Answer this question about Germany: 3.20.1 Which of the following item...\n",
      "True: If positive, 0.6% of IRBA RWA...\n",
      "Pred: 1.25% of credit risk-weighted exposure amounts for banks using the IRB Approach for credit risk\n",
      "custom questions:\n",
      "\n",
      "Q: Answer this question about United States: What body/agency grants banking licenses?\n",
      "A: The National Banking and Securities Commission\n",
      "\n",
      "Q: Answer this question about France: What is the minimum capital requirement?\n",
      "A: The minimum capital requirement depends on the type of institution: â€“ â€“ â€“ â€“ â€“ â€“ â€“ â€“ â€“ â€“ â€“ â€“ â€“ â€“ â€“ â€“ â€“ â€“ â€“ â€“ â€“ â€“ â€“ â€“ â€“ â€“ â€“ â€“ â€“\n",
      "\n",
      "Q: Answer this question about Japan: Who regulates banks?\n",
      "A: Bank of Japan\n"
     ]
    }
   ],
   "source": [
    "from transformers import AutoTokenizer, AutoModelForSeq2SeqLM\n",
    "import random\n",
    "\n",
    "model = AutoModelForSeq2SeqLM.from_pretrained(\"./flan-t5-bsae-CUSTOM-TRAINED\").to(\"cuda\")\n",
    "tokenizer = AutoTokenizer.from_pretrained(\"./flan-t5-bsae-CUSTOM-TRAINED\")\n",
    "\n",
    "test_indices = random.sample(range(len(data)), 20)\n",
    "\n",
    "for idx in test_indices:\n",
    "    sample = data[idx]\n",
    "    question = sample[\"input\"]\n",
    "    true_answer = sample[\"target\"]\n",
    "    \n",
    "    inputs = tokenizer(question, return_tensors=\"pt\", max_length=512, truncation=True).to(\"cuda\")\n",
    "    outputs = model.generate(**inputs, max_length=128, num_beams=4)\n",
    "    predicted = tokenizer.decode(outputs[0], skip_special_tokens=True)\n",
    "        \n",
    "    print(f\"\\nQ: {question[:70]}...\")\n",
    "    print(f\"True: {true_answer[:60]}...\")\n",
    "    print(f\"Pred: {predicted}\")\n",
    "\n",
    "# Test on custom questions\n",
    "print(\"custom questions:\")\n",
    "\n",
    "custom_questions = [\n",
    "    \"Answer this question about United States: What body/agency grants banking licenses?\",\n",
    "    \"Answer this question about France: What is the minimum capital requirement?\",\n",
    "    \"Answer this question about Japan: Who regulates banks?\"\n",
    "]\n",
    "\n",
    "for q in custom_questions:\n",
    "    inputs = tokenizer(q, return_tensors=\"pt\").to(\"cuda\")\n",
    "    outputs = model.generate(**inputs, max_length=128, num_beams=4)\n",
    "    pred = tokenizer.decode(outputs[0], skip_special_tokens=True)\n",
    "    print(f\"\\nQ: {q}\")\n",
    "    print(f\"A: {pred}\")"
   ]
  },
  {
   "cell_type": "markdown",
   "id": "617cb337",
   "metadata": {},
   "source": [
    "Now that we have made sure the model is working, we can upload it to a server. In this project, I'm using HuggingFace as its free and allows for easy testing. For production we would use Azure/AWS/GCP."
   ]
  },
  {
   "cell_type": "code",
   "execution_count": null,
   "id": "4b18dd71",
   "metadata": {},
   "outputs": [
    {
     "name": "stdout",
     "output_type": "stream",
     "text": [
      "^C\n"
     ]
    }
   ],
   "source": [
    "\n",
    "# log in to huggingface - enter\n",
    "# you may need to run the authentication command directly in your terminal \n",
    "!pip install huggingface_hub\n",
    "!hf auth login"
   ]
  },
  {
   "cell_type": "markdown",
   "id": "3b285a70",
   "metadata": {},
   "source": [
    "Now that you are logged in to huggingface, you must upload the trained model."
   ]
  },
  {
   "cell_type": "code",
   "execution_count": null,
   "id": "7a7d496a",
   "metadata": {},
   "outputs": [
    {
     "name": "stderr",
     "output_type": "stream",
     "text": [
      "model.safetensors: 100%|██████████| 308M/308M [03:58<00:00, 1.29MB/s]   \n",
      "c:\\Users\\moham\\miniconda3\\envs\\wbtraining\\Lib\\site-packages\\huggingface_hub\\file_download.py:143: UserWarning: `huggingface_hub` cache-system uses symlinks by default to efficiently store duplicated files but your machine does not support them in C:\\Users\\moham\\.cache\\huggingface\\hub\\models--mian21--flan-t5-bsae-CUSTOM-TRAINED. Caching files will still work but in a degraded version that might require more space on your disk. This warning can be disabled by setting the `HF_HUB_DISABLE_SYMLINKS_WARNING` environment variable. For more details, see https://huggingface.co/docs/huggingface_hub/how-to-cache#limitations.\n",
      "To support symlinks on Windows, you either need to activate Developer Mode or to run Python as an administrator. In order to activate developer mode, see this article: https://docs.microsoft.com/en-us/windows/apps/get-started/enable-your-device-for-development\n",
      "  warnings.warn(message)\n"
     ]
    },
    {
     "data": {
      "text/plain": [
       "CommitInfo(commit_url='https://huggingface.co/mian21/flan-t5-bsae-CUSTOM-TRAINED/commit/9269846cf7bba0c68b074278b603102fde5356e8', commit_message='Upload tokenizer', commit_description='', oid='9269846cf7bba0c68b074278b603102fde5356e8', pr_url=None, repo_url=RepoUrl('https://huggingface.co/mian21/flan-t5-bsae-CUSTOM-TRAINED', endpoint='https://huggingface.co', repo_type='model', repo_id='mian21/flan-t5-bsae-CUSTOM-TRAINED'), pr_revision=None, pr_num=None)"
      ]
     },
     "execution_count": 30,
     "metadata": {},
     "output_type": "execute_result"
    }
   ],
   "source": [
    "# upload model to hf:\n",
    "model.push_to_hub(\"mian21/flan-t5-bsae-CUSTOM-TRAINED\")\n",
    "tokenizer.push_to_hub(\"mian21/flan-t5-bsae-CUSTOM-TRAINED\")"
   ]
  },
  {
   "cell_type": "markdown",
   "id": "0844d705",
   "metadata": {},
   "source": [
    "The model can be queried directly from the huggingface server using API requests or loaded directly into your code using huggingface's autotrainer."
   ]
  },
  {
   "cell_type": "code",
   "execution_count": null,
   "id": "27d665f8",
   "metadata": {},
   "outputs": [
    {
     "name": "stdout",
     "output_type": "stream",
     "text": [
      "404 Not Found\n"
     ]
    }
   ],
   "source": [
    "import requests\n",
    "\n",
    "API_URL = \"https://router.huggingface.co/hf-inference/models/mian21/flan-t5-bsae-CUSTOM-TRAINED\"\n",
    "headers = {\"Authorization\": \"Bearer \"}\n",
    "\n",
    "payload = {\n",
    "  \"inputs\": \"question: What body/agency grants banking licenses in the United States?\",\n",
    "  \"parameters\": {\"max_new_tokens\": 128, \"temperature\": 0.2}\n",
    "}\n",
    "\n",
    "resp = requests.post(API_URL, headers=headers, json=payload, timeout=120)\n",
    "print(resp.status_code, resp.text)\n"
   ]
  }
 ],
 "metadata": {
  "kernelspec": {
   "display_name": "wbtraining",
   "language": "python",
   "name": "python3"
  },
  "language_info": {
   "codemirror_mode": {
    "name": "ipython",
    "version": 3
   },
   "file_extension": ".py",
   "mimetype": "text/x-python",
   "name": "python",
   "nbconvert_exporter": "python",
   "pygments_lexer": "ipython3",
   "version": "3.13.7"
  }
 },
 "nbformat": 4,
 "nbformat_minor": 5
}
